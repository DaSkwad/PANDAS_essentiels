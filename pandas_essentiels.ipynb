{
 "cells": [
  {
   "cell_type": "markdown",
   "id": "7ff27226",
   "metadata": {},
   "source": [
    "![Pandas](img/pandas.png)"
   ]
  },
  {
   "cell_type": "markdown",
   "id": "e7d6bd65",
   "metadata": {},
   "source": [
    "Bienvenue dans ce notebook dédié à **Pandas**, l'une des bibliothèques les plus importantes pour manipuler des données en Python.\n",
    "\n",
    "🎯 Objectif : Apprendre à manipuler des données tabulaires en étudiant les bases de **Pandas**.\n",
    "\n",
    "---\n",
    "\n",
    "## 📌 Sommaire :\n",
    "1. Création d'une DataFrame  \n",
    "2. Chargement de données (CSV)  \n",
    "3. Exploration rapide des données  \n",
    "4. Sélection et filtres  \n",
    "5. Opérations sur les colonnes  \n",
    "6. Nettoyage des données  \n",
    "7. Groupement et agrégation  \n",
    "8. Fusion de DataFrames\n",
    "\n",
    "---\n"
   ]
  },
  {
   "cell_type": "markdown",
   "id": "9debdda9",
   "metadata": {},
   "source": [
    "# Introduction"
   ]
  },
  {
   "cell_type": "markdown",
   "id": "820b5d6a",
   "metadata": {},
   "source": [
    "Pandas est une bibliothèque Python incontournable pour la **manipulation** et l’**analyse de données tabulaires** (comme les fichiers CSV, Excel, ou bases de données relationnelles).\n",
    "\n",
    "Elle est largement utilisée en **data science**, **machine learning**, **finance**, et dans toute activité où l’on travaille avec des **données structurées**."
   ]
  },
  {
   "cell_type": "markdown",
   "id": "4b67847d",
   "metadata": {},
   "source": [
    "# 1. Créer une DataFrame manuellement"
   ]
  },
  {
   "cell_type": "markdown",
   "id": "7547b014",
   "metadata": {},
   "source": [
    "La DataFrame est la structure principale de Pandas. Elle représente un **tableau 2D** composé de **lignes** et de **colonnes nommées**, un peu comme une feuille Excel.\n",
    "\n",
    "Dans cette première étape, nous allons créer une **DataFrame** à partir d’un dictionnaire Python. Chaque clé du dictionnaire représente le nom d’une colonne, et chaque valeur est une liste correspondant aux données de cette colonne."
   ]
  },
  {
   "cell_type": "code",
   "execution_count": 22,
   "id": "8b9912fc",
   "metadata": {},
   "outputs": [],
   "source": [
    "# Chargement de la bibliothèque Pandas\n",
    "import pandas as pd"
   ]
  },
  {
   "cell_type": "code",
   "execution_count": 23,
   "id": "8d9d24d8",
   "metadata": {},
   "outputs": [
    {
     "data": {
      "text/html": [
       "<div>\n",
       "<style scoped>\n",
       "    .dataframe tbody tr th:only-of-type {\n",
       "        vertical-align: middle;\n",
       "    }\n",
       "\n",
       "    .dataframe tbody tr th {\n",
       "        vertical-align: top;\n",
       "    }\n",
       "\n",
       "    .dataframe thead th {\n",
       "        text-align: right;\n",
       "    }\n",
       "</style>\n",
       "<table border=\"1\" class=\"dataframe\">\n",
       "  <thead>\n",
       "    <tr style=\"text-align: right;\">\n",
       "      <th></th>\n",
       "      <th>Nom</th>\n",
       "      <th>Âge</th>\n",
       "      <th>Ville</th>\n",
       "    </tr>\n",
       "  </thead>\n",
       "  <tbody>\n",
       "    <tr>\n",
       "      <th>0</th>\n",
       "      <td>Alice</td>\n",
       "      <td>25</td>\n",
       "      <td>Paris</td>\n",
       "    </tr>\n",
       "    <tr>\n",
       "      <th>1</th>\n",
       "      <td>Bob</td>\n",
       "      <td>30</td>\n",
       "      <td>Lyon</td>\n",
       "    </tr>\n",
       "    <tr>\n",
       "      <th>2</th>\n",
       "      <td>Charlie</td>\n",
       "      <td>35</td>\n",
       "      <td>Marseille</td>\n",
       "    </tr>\n",
       "  </tbody>\n",
       "</table>\n",
       "</div>"
      ],
      "text/plain": [
       "       Nom  Âge      Ville\n",
       "0    Alice   25      Paris\n",
       "1      Bob   30       Lyon\n",
       "2  Charlie   35  Marseille"
      ]
     },
     "metadata": {},
     "output_type": "display_data"
    }
   ],
   "source": [
    "# Dictionnaire contenant les données à transformer\n",
    "data = {\n",
    "    \"Nom\": [\"Alice\", \"Bob\", \"Charlie\"],\n",
    "    \"Âge\": [25, 30, 35],\n",
    "    \"Ville\": [\"Paris\", \"Lyon\", \"Marseille\"]\n",
    "}\n",
    "\n",
    "# Conversion du dictionnaire en DataFrame\n",
    "df = pd.DataFrame(data)\n",
    "\n",
    "display(df)"
   ]
  },
  {
   "cell_type": "markdown",
   "id": "042c0ba1",
   "metadata": {},
   "source": [
    "### 🧩 Exercice"
   ]
  },
  {
   "cell_type": "markdown",
   "id": "4a5ffc66",
   "metadata": {},
   "source": [
    "> Créez votre propre DataFrame avec les colonnes : `Produit`, `Prix`, `Quantité`"
   ]
  },
  {
   "cell_type": "code",
   "execution_count": 24,
   "id": "6a18aed2",
   "metadata": {},
   "outputs": [],
   "source": [
    "# Votre code ici"
   ]
  },
  {
   "cell_type": "markdown",
   "id": "e24d32ec",
   "metadata": {},
   "source": [
    "# 2. 📂 Lire un fichier CSV"
   ]
  },
  {
   "cell_type": "markdown",
   "id": "cda0a000",
   "metadata": {},
   "source": [
    "Dans la grande majorité des projets de data science, les données proviennent d’un fichier externe, souvent au format CSV (Comma-Separated Values).\n",
    "Ce format est simple, lisible, et largement utilisé pour exporter des données depuis Excel, des bases de données ou des outils en ligne.\n",
    "\n",
    "Avec Pandas, la fonction `pd.read_csv()` permet de charger rapidement un fichier CSV dans une DataFrame.\n"
   ]
  },
  {
   "cell_type": "code",
   "execution_count": 25,
   "id": "62c8d39c",
   "metadata": {},
   "outputs": [
    {
     "data": {
      "text/html": [
       "<div>\n",
       "<style scoped>\n",
       "    .dataframe tbody tr th:only-of-type {\n",
       "        vertical-align: middle;\n",
       "    }\n",
       "\n",
       "    .dataframe tbody tr th {\n",
       "        vertical-align: top;\n",
       "    }\n",
       "\n",
       "    .dataframe thead th {\n",
       "        text-align: right;\n",
       "    }\n",
       "</style>\n",
       "<table border=\"1\" class=\"dataframe\">\n",
       "  <thead>\n",
       "    <tr style=\"text-align: right;\">\n",
       "      <th></th>\n",
       "      <th>Nom_complet</th>\n",
       "      <th>Age</th>\n",
       "      <th>Ville</th>\n",
       "      <th>Salaire</th>\n",
       "      <th>Statut</th>\n",
       "    </tr>\n",
       "  </thead>\n",
       "  <tbody>\n",
       "    <tr>\n",
       "      <th>0</th>\n",
       "      <td>Madeleine Lenoir</td>\n",
       "      <td>56</td>\n",
       "      <td>Lille</td>\n",
       "      <td>59778</td>\n",
       "      <td>Célibataire</td>\n",
       "    </tr>\n",
       "    <tr>\n",
       "      <th>1</th>\n",
       "      <td>Victor Picard</td>\n",
       "      <td>46</td>\n",
       "      <td>Lyon</td>\n",
       "      <td>31207</td>\n",
       "      <td>Célibataire</td>\n",
       "    </tr>\n",
       "    <tr>\n",
       "      <th>2</th>\n",
       "      <td>Daniel Chauvin</td>\n",
       "      <td>32</td>\n",
       "      <td>Bordeaux</td>\n",
       "      <td>76269</td>\n",
       "      <td>Marié(e)</td>\n",
       "    </tr>\n",
       "    <tr>\n",
       "      <th>3</th>\n",
       "      <td>Luce Renaud</td>\n",
       "      <td>60</td>\n",
       "      <td>Paris</td>\n",
       "      <td>45537</td>\n",
       "      <td>Marié(e)</td>\n",
       "    </tr>\n",
       "    <tr>\n",
       "      <th>4</th>\n",
       "      <td>Agathe Grégoire</td>\n",
       "      <td>25</td>\n",
       "      <td>Lille</td>\n",
       "      <td>55757</td>\n",
       "      <td>Marié(e)</td>\n",
       "    </tr>\n",
       "    <tr>\n",
       "      <th>...</th>\n",
       "      <td>...</td>\n",
       "      <td>...</td>\n",
       "      <td>...</td>\n",
       "      <td>...</td>\n",
       "      <td>...</td>\n",
       "    </tr>\n",
       "    <tr>\n",
       "      <th>995</th>\n",
       "      <td>Denise Munoz</td>\n",
       "      <td>22</td>\n",
       "      <td>Paris</td>\n",
       "      <td>43481</td>\n",
       "      <td>Divorcé(e)</td>\n",
       "    </tr>\n",
       "    <tr>\n",
       "      <th>996</th>\n",
       "      <td>Roger Launay</td>\n",
       "      <td>40</td>\n",
       "      <td>Marseille</td>\n",
       "      <td>38474</td>\n",
       "      <td>Divorcé(e)</td>\n",
       "    </tr>\n",
       "    <tr>\n",
       "      <th>997</th>\n",
       "      <td>Philippine Lucas</td>\n",
       "      <td>27</td>\n",
       "      <td>Bordeaux</td>\n",
       "      <td>66760</td>\n",
       "      <td>Célibataire</td>\n",
       "    </tr>\n",
       "    <tr>\n",
       "      <th>998</th>\n",
       "      <td>Isaac Turpin</td>\n",
       "      <td>61</td>\n",
       "      <td>Lyon</td>\n",
       "      <td>75718</td>\n",
       "      <td>Divorcé(e)</td>\n",
       "    </tr>\n",
       "    <tr>\n",
       "      <th>999</th>\n",
       "      <td>Claire Boulanger</td>\n",
       "      <td>19</td>\n",
       "      <td>Marseille</td>\n",
       "      <td>64629</td>\n",
       "      <td>Célibataire</td>\n",
       "    </tr>\n",
       "  </tbody>\n",
       "</table>\n",
       "<p>1000 rows × 5 columns</p>\n",
       "</div>"
      ],
      "text/plain": [
       "          Nom_complet  Age      Ville  Salaire       Statut\n",
       "0    Madeleine Lenoir   56      Lille    59778  Célibataire\n",
       "1       Victor Picard   46       Lyon    31207  Célibataire\n",
       "2      Daniel Chauvin   32   Bordeaux    76269     Marié(e)\n",
       "3         Luce Renaud   60      Paris    45537     Marié(e)\n",
       "4     Agathe Grégoire   25      Lille    55757     Marié(e)\n",
       "..                ...  ...        ...      ...          ...\n",
       "995      Denise Munoz   22      Paris    43481   Divorcé(e)\n",
       "996      Roger Launay   40  Marseille    38474   Divorcé(e)\n",
       "997  Philippine Lucas   27   Bordeaux    66760  Célibataire\n",
       "998      Isaac Turpin   61       Lyon    75718   Divorcé(e)\n",
       "999  Claire Boulanger   19  Marseille    64629  Célibataire\n",
       "\n",
       "[1000 rows x 5 columns]"
      ]
     },
     "metadata": {},
     "output_type": "display_data"
    }
   ],
   "source": [
    "# Chargement d'un fichier CSV\n",
    "df = pd.read_csv(\"data/employees.csv\")\n",
    "\n",
    "display(df)"
   ]
  },
  {
   "cell_type": "markdown",
   "id": "7ba53607",
   "metadata": {},
   "source": [
    "# 3. 🔍 Exploration rapide des données"
   ]
  },
  {
   "cell_type": "markdown",
   "id": "be57dd79",
   "metadata": {},
   "source": [
    "Une fois le fichier chargé, la première étape consiste à explorer rapidement la structure et le contenu des données.\n",
    "Cela permet de :\n",
    "- vérifier que le fichier a bien été lu,\n",
    "- repérer d’éventuels problèmes (valeurs manquantes, colonnes inutiles…),\n",
    "- et mieux comprendre les variables disponibles.\n",
    "\n",
    "Pandas fournit plusieurs méthodes très pratiques pour cette phase d’inspection : "
   ]
  },
  {
   "cell_type": "code",
   "execution_count": 26,
   "id": "a8a31c69",
   "metadata": {},
   "outputs": [
    {
     "data": {
      "text/plain": [
       "(1000, 5)"
      ]
     },
     "execution_count": 26,
     "metadata": {},
     "output_type": "execute_result"
    }
   ],
   "source": [
    "# Connaître les dimensions du tableau : (lignes, colonnes)\n",
    "df.shape"
   ]
  },
  {
   "cell_type": "code",
   "execution_count": 27,
   "id": "2599d4fe",
   "metadata": {},
   "outputs": [
    {
     "data": {
      "text/html": [
       "<div>\n",
       "<style scoped>\n",
       "    .dataframe tbody tr th:only-of-type {\n",
       "        vertical-align: middle;\n",
       "    }\n",
       "\n",
       "    .dataframe tbody tr th {\n",
       "        vertical-align: top;\n",
       "    }\n",
       "\n",
       "    .dataframe thead th {\n",
       "        text-align: right;\n",
       "    }\n",
       "</style>\n",
       "<table border=\"1\" class=\"dataframe\">\n",
       "  <thead>\n",
       "    <tr style=\"text-align: right;\">\n",
       "      <th></th>\n",
       "      <th>Nom_complet</th>\n",
       "      <th>Age</th>\n",
       "      <th>Ville</th>\n",
       "      <th>Salaire</th>\n",
       "      <th>Statut</th>\n",
       "    </tr>\n",
       "  </thead>\n",
       "  <tbody>\n",
       "    <tr>\n",
       "      <th>0</th>\n",
       "      <td>Madeleine Lenoir</td>\n",
       "      <td>56</td>\n",
       "      <td>Lille</td>\n",
       "      <td>59778</td>\n",
       "      <td>Célibataire</td>\n",
       "    </tr>\n",
       "    <tr>\n",
       "      <th>1</th>\n",
       "      <td>Victor Picard</td>\n",
       "      <td>46</td>\n",
       "      <td>Lyon</td>\n",
       "      <td>31207</td>\n",
       "      <td>Célibataire</td>\n",
       "    </tr>\n",
       "    <tr>\n",
       "      <th>2</th>\n",
       "      <td>Daniel Chauvin</td>\n",
       "      <td>32</td>\n",
       "      <td>Bordeaux</td>\n",
       "      <td>76269</td>\n",
       "      <td>Marié(e)</td>\n",
       "    </tr>\n",
       "    <tr>\n",
       "      <th>3</th>\n",
       "      <td>Luce Renaud</td>\n",
       "      <td>60</td>\n",
       "      <td>Paris</td>\n",
       "      <td>45537</td>\n",
       "      <td>Marié(e)</td>\n",
       "    </tr>\n",
       "    <tr>\n",
       "      <th>4</th>\n",
       "      <td>Agathe Grégoire</td>\n",
       "      <td>25</td>\n",
       "      <td>Lille</td>\n",
       "      <td>55757</td>\n",
       "      <td>Marié(e)</td>\n",
       "    </tr>\n",
       "  </tbody>\n",
       "</table>\n",
       "</div>"
      ],
      "text/plain": [
       "        Nom_complet  Age     Ville  Salaire       Statut\n",
       "0  Madeleine Lenoir   56     Lille    59778  Célibataire\n",
       "1     Victor Picard   46      Lyon    31207  Célibataire\n",
       "2    Daniel Chauvin   32  Bordeaux    76269     Marié(e)\n",
       "3       Luce Renaud   60     Paris    45537     Marié(e)\n",
       "4   Agathe Grégoire   25     Lille    55757     Marié(e)"
      ]
     },
     "execution_count": 27,
     "metadata": {},
     "output_type": "execute_result"
    }
   ],
   "source": [
    "# Affiche les premières lignes du DataFrame (5 ligne par défaut)\n",
    "df.head()"
   ]
  },
  {
   "cell_type": "code",
   "execution_count": 28,
   "id": "fdb459f8",
   "metadata": {},
   "outputs": [
    {
     "data": {
      "text/html": [
       "<div>\n",
       "<style scoped>\n",
       "    .dataframe tbody tr th:only-of-type {\n",
       "        vertical-align: middle;\n",
       "    }\n",
       "\n",
       "    .dataframe tbody tr th {\n",
       "        vertical-align: top;\n",
       "    }\n",
       "\n",
       "    .dataframe thead th {\n",
       "        text-align: right;\n",
       "    }\n",
       "</style>\n",
       "<table border=\"1\" class=\"dataframe\">\n",
       "  <thead>\n",
       "    <tr style=\"text-align: right;\">\n",
       "      <th></th>\n",
       "      <th>Nom_complet</th>\n",
       "      <th>Age</th>\n",
       "      <th>Ville</th>\n",
       "      <th>Salaire</th>\n",
       "      <th>Statut</th>\n",
       "    </tr>\n",
       "  </thead>\n",
       "  <tbody>\n",
       "    <tr>\n",
       "      <th>0</th>\n",
       "      <td>Madeleine Lenoir</td>\n",
       "      <td>56</td>\n",
       "      <td>Lille</td>\n",
       "      <td>59778</td>\n",
       "      <td>Célibataire</td>\n",
       "    </tr>\n",
       "    <tr>\n",
       "      <th>1</th>\n",
       "      <td>Victor Picard</td>\n",
       "      <td>46</td>\n",
       "      <td>Lyon</td>\n",
       "      <td>31207</td>\n",
       "      <td>Célibataire</td>\n",
       "    </tr>\n",
       "    <tr>\n",
       "      <th>2</th>\n",
       "      <td>Daniel Chauvin</td>\n",
       "      <td>32</td>\n",
       "      <td>Bordeaux</td>\n",
       "      <td>76269</td>\n",
       "      <td>Marié(e)</td>\n",
       "    </tr>\n",
       "    <tr>\n",
       "      <th>3</th>\n",
       "      <td>Luce Renaud</td>\n",
       "      <td>60</td>\n",
       "      <td>Paris</td>\n",
       "      <td>45537</td>\n",
       "      <td>Marié(e)</td>\n",
       "    </tr>\n",
       "    <tr>\n",
       "      <th>4</th>\n",
       "      <td>Agathe Grégoire</td>\n",
       "      <td>25</td>\n",
       "      <td>Lille</td>\n",
       "      <td>55757</td>\n",
       "      <td>Marié(e)</td>\n",
       "    </tr>\n",
       "    <tr>\n",
       "      <th>5</th>\n",
       "      <td>Alix David</td>\n",
       "      <td>38</td>\n",
       "      <td>Paris</td>\n",
       "      <td>32040</td>\n",
       "      <td>Marié(e)</td>\n",
       "    </tr>\n",
       "    <tr>\n",
       "      <th>6</th>\n",
       "      <td>Christophe Dijoux</td>\n",
       "      <td>56</td>\n",
       "      <td>Paris</td>\n",
       "      <td>61986</td>\n",
       "      <td>Marié(e)</td>\n",
       "    </tr>\n",
       "    <tr>\n",
       "      <th>7</th>\n",
       "      <td>Virginie Baron</td>\n",
       "      <td>36</td>\n",
       "      <td>Paris</td>\n",
       "      <td>42612</td>\n",
       "      <td>Célibataire</td>\n",
       "    </tr>\n",
       "    <tr>\n",
       "      <th>8</th>\n",
       "      <td>Agathe Payet</td>\n",
       "      <td>40</td>\n",
       "      <td>Marseille</td>\n",
       "      <td>48441</td>\n",
       "      <td>Marié(e)</td>\n",
       "    </tr>\n",
       "    <tr>\n",
       "      <th>9</th>\n",
       "      <td>Maurice Rousset</td>\n",
       "      <td>28</td>\n",
       "      <td>Marseille</td>\n",
       "      <td>26471</td>\n",
       "      <td>Célibataire</td>\n",
       "    </tr>\n",
       "  </tbody>\n",
       "</table>\n",
       "</div>"
      ],
      "text/plain": [
       "         Nom_complet  Age      Ville  Salaire       Statut\n",
       "0   Madeleine Lenoir   56      Lille    59778  Célibataire\n",
       "1      Victor Picard   46       Lyon    31207  Célibataire\n",
       "2     Daniel Chauvin   32   Bordeaux    76269     Marié(e)\n",
       "3        Luce Renaud   60      Paris    45537     Marié(e)\n",
       "4    Agathe Grégoire   25      Lille    55757     Marié(e)\n",
       "5         Alix David   38      Paris    32040     Marié(e)\n",
       "6  Christophe Dijoux   56      Paris    61986     Marié(e)\n",
       "7     Virginie Baron   36      Paris    42612  Célibataire\n",
       "8       Agathe Payet   40  Marseille    48441     Marié(e)\n",
       "9    Maurice Rousset   28  Marseille    26471  Célibataire"
      ]
     },
     "execution_count": 28,
     "metadata": {},
     "output_type": "execute_result"
    }
   ],
   "source": [
    "# Affiche les 10 premières lignes du DataFrame\n",
    "df.head(10)"
   ]
  },
  {
   "cell_type": "code",
   "execution_count": 29,
   "id": "2fd6590f",
   "metadata": {},
   "outputs": [
    {
     "name": "stdout",
     "output_type": "stream",
     "text": [
      "<class 'pandas.core.frame.DataFrame'>\n",
      "RangeIndex: 1000 entries, 0 to 999\n",
      "Data columns (total 5 columns):\n",
      " #   Column       Non-Null Count  Dtype \n",
      "---  ------       --------------  ----- \n",
      " 0   Nom_complet  1000 non-null   object\n",
      " 1   Age          1000 non-null   int64 \n",
      " 2   Ville        1000 non-null   object\n",
      " 3   Salaire      1000 non-null   int64 \n",
      " 4   Statut       1000 non-null   object\n",
      "dtypes: int64(2), object(3)\n",
      "memory usage: 39.2+ KB\n"
     ]
    }
   ],
   "source": [
    "# Résumé général : nombre de lignes, colonnes, types, valeurs nulles\n",
    "df.info()"
   ]
  },
  {
   "cell_type": "code",
   "execution_count": 30,
   "id": "4aba3f5d",
   "metadata": {},
   "outputs": [
    {
     "data": {
      "text/html": [
       "<div>\n",
       "<style scoped>\n",
       "    .dataframe tbody tr th:only-of-type {\n",
       "        vertical-align: middle;\n",
       "    }\n",
       "\n",
       "    .dataframe tbody tr th {\n",
       "        vertical-align: top;\n",
       "    }\n",
       "\n",
       "    .dataframe thead th {\n",
       "        text-align: right;\n",
       "    }\n",
       "</style>\n",
       "<table border=\"1\" class=\"dataframe\">\n",
       "  <thead>\n",
       "    <tr style=\"text-align: right;\">\n",
       "      <th></th>\n",
       "      <th>Age</th>\n",
       "      <th>Salaire</th>\n",
       "    </tr>\n",
       "  </thead>\n",
       "  <tbody>\n",
       "    <tr>\n",
       "      <th>count</th>\n",
       "      <td>1000.000000</td>\n",
       "      <td>1000.00000</td>\n",
       "    </tr>\n",
       "    <tr>\n",
       "      <th>mean</th>\n",
       "      <td>40.986000</td>\n",
       "      <td>50625.02300</td>\n",
       "    </tr>\n",
       "    <tr>\n",
       "      <th>std</th>\n",
       "      <td>13.497852</td>\n",
       "      <td>16937.69321</td>\n",
       "    </tr>\n",
       "    <tr>\n",
       "      <th>min</th>\n",
       "      <td>18.000000</td>\n",
       "      <td>20145.00000</td>\n",
       "    </tr>\n",
       "    <tr>\n",
       "      <th>25%</th>\n",
       "      <td>29.000000</td>\n",
       "      <td>36144.00000</td>\n",
       "    </tr>\n",
       "    <tr>\n",
       "      <th>50%</th>\n",
       "      <td>42.000000</td>\n",
       "      <td>50380.50000</td>\n",
       "    </tr>\n",
       "    <tr>\n",
       "      <th>75%</th>\n",
       "      <td>52.000000</td>\n",
       "      <td>65008.25000</td>\n",
       "    </tr>\n",
       "    <tr>\n",
       "      <th>max</th>\n",
       "      <td>64.000000</td>\n",
       "      <td>79975.00000</td>\n",
       "    </tr>\n",
       "  </tbody>\n",
       "</table>\n",
       "</div>"
      ],
      "text/plain": [
       "               Age      Salaire\n",
       "count  1000.000000   1000.00000\n",
       "mean     40.986000  50625.02300\n",
       "std      13.497852  16937.69321\n",
       "min      18.000000  20145.00000\n",
       "25%      29.000000  36144.00000\n",
       "50%      42.000000  50380.50000\n",
       "75%      52.000000  65008.25000\n",
       "max      64.000000  79975.00000"
      ]
     },
     "execution_count": 30,
     "metadata": {},
     "output_type": "execute_result"
    }
   ],
   "source": [
    "# Statistiques descriptives pour les colonnes numériques\n",
    "df.describe()"
   ]
  },
  {
   "cell_type": "code",
   "execution_count": 31,
   "id": "c0d6e303",
   "metadata": {},
   "outputs": [
    {
     "data": {
      "text/plain": [
       "Index(['Nom_complet', 'Age', 'Ville', 'Salaire', 'Statut'], dtype='object')"
      ]
     },
     "execution_count": 31,
     "metadata": {},
     "output_type": "execute_result"
    }
   ],
   "source": [
    "# Liste des noms de colonnes.\n",
    "df.columns\n"
   ]
  },
  {
   "cell_type": "markdown",
   "id": "14293440",
   "metadata": {},
   "source": [
    "# 4. 🔎 Sélection et filtrage de données"
   ]
  },
  {
   "cell_type": "markdown",
   "id": "020ea32a",
   "metadata": {},
   "source": [
    "Une fois les données chargées et explorées, vous allez souvent vouloir :\n",
    "- accéder à une ou plusieurs colonnes spécifiques,\n",
    "- ou filtrer les lignes selon des conditions (par exemple : age > 25, ville = \"Paris\", etc.)."
   ]
  },
  {
   "cell_type": "markdown",
   "id": "805e4648",
   "metadata": {},
   "source": [
    "### 4.1. Sélection"
   ]
  },
  {
   "cell_type": "markdown",
   "id": "f28c9f9b",
   "metadata": {},
   "source": [
    "En Pandas, on accède à une colonne comme à une clé de dictionnaire. Cela retourne une **Series**, c’est-à-dire un vecteur contenant les valeurs de cette colonne."
   ]
  },
  {
   "cell_type": "code",
   "execution_count": 32,
   "id": "1cb91fec",
   "metadata": {},
   "outputs": [
    {
     "data": {
      "text/plain": [
       "0      Madeleine Lenoir\n",
       "1         Victor Picard\n",
       "2        Daniel Chauvin\n",
       "3           Luce Renaud\n",
       "4       Agathe Grégoire\n",
       "             ...       \n",
       "995        Denise Munoz\n",
       "996        Roger Launay\n",
       "997    Philippine Lucas\n",
       "998        Isaac Turpin\n",
       "999    Claire Boulanger\n",
       "Name: Nom_complet, Length: 1000, dtype: object"
      ]
     },
     "execution_count": 32,
     "metadata": {},
     "output_type": "execute_result"
    }
   ],
   "source": [
    "# Accès à une colonne\n",
    "selected_column = df[\"Nom_complet\"]\n",
    "\n",
    "selected_column"
   ]
  },
  {
   "cell_type": "code",
   "execution_count": 33,
   "id": "335d9d95",
   "metadata": {},
   "outputs": [
    {
     "data": {
      "text/plain": [
       "pandas.core.series.Series"
      ]
     },
     "execution_count": 33,
     "metadata": {},
     "output_type": "execute_result"
    }
   ],
   "source": [
    "# Type du contenu retourné par la sélection (Series)\n",
    "type(selected_column)"
   ]
  },
  {
   "cell_type": "markdown",
   "id": "5132737f",
   "metadata": {},
   "source": [
    "### 4.2. Filtrage"
   ]
  },
  {
   "cell_type": "markdown",
   "id": "226ece37",
   "metadata": {},
   "source": [
    "Il est possible d'appliquer un masque ou des conditions directement sur les colonnes."
   ]
  },
  {
   "cell_type": "code",
   "execution_count": 34,
   "id": "34fe6ce0",
   "metadata": {},
   "outputs": [
    {
     "data": {
      "text/plain": [
       "0       True\n",
       "1       True\n",
       "2       True\n",
       "3       True\n",
       "4      False\n",
       "       ...  \n",
       "995    False\n",
       "996     True\n",
       "997     True\n",
       "998     True\n",
       "999    False\n",
       "Name: Age, Length: 1000, dtype: bool"
      ]
     },
     "metadata": {},
     "output_type": "display_data"
    },
    {
     "data": {
      "text/html": [
       "<div>\n",
       "<style scoped>\n",
       "    .dataframe tbody tr th:only-of-type {\n",
       "        vertical-align: middle;\n",
       "    }\n",
       "\n",
       "    .dataframe tbody tr th {\n",
       "        vertical-align: top;\n",
       "    }\n",
       "\n",
       "    .dataframe thead th {\n",
       "        text-align: right;\n",
       "    }\n",
       "</style>\n",
       "<table border=\"1\" class=\"dataframe\">\n",
       "  <thead>\n",
       "    <tr style=\"text-align: right;\">\n",
       "      <th></th>\n",
       "      <th>Nom_complet</th>\n",
       "      <th>Age</th>\n",
       "      <th>Ville</th>\n",
       "      <th>Salaire</th>\n",
       "      <th>Statut</th>\n",
       "    </tr>\n",
       "  </thead>\n",
       "  <tbody>\n",
       "    <tr>\n",
       "      <th>0</th>\n",
       "      <td>Madeleine Lenoir</td>\n",
       "      <td>56</td>\n",
       "      <td>Lille</td>\n",
       "      <td>59778</td>\n",
       "      <td>Célibataire</td>\n",
       "    </tr>\n",
       "    <tr>\n",
       "      <th>1</th>\n",
       "      <td>Victor Picard</td>\n",
       "      <td>46</td>\n",
       "      <td>Lyon</td>\n",
       "      <td>31207</td>\n",
       "      <td>Célibataire</td>\n",
       "    </tr>\n",
       "    <tr>\n",
       "      <th>2</th>\n",
       "      <td>Daniel Chauvin</td>\n",
       "      <td>32</td>\n",
       "      <td>Bordeaux</td>\n",
       "      <td>76269</td>\n",
       "      <td>Marié(e)</td>\n",
       "    </tr>\n",
       "    <tr>\n",
       "      <th>3</th>\n",
       "      <td>Luce Renaud</td>\n",
       "      <td>60</td>\n",
       "      <td>Paris</td>\n",
       "      <td>45537</td>\n",
       "      <td>Marié(e)</td>\n",
       "    </tr>\n",
       "    <tr>\n",
       "      <th>5</th>\n",
       "      <td>Alix David</td>\n",
       "      <td>38</td>\n",
       "      <td>Paris</td>\n",
       "      <td>32040</td>\n",
       "      <td>Marié(e)</td>\n",
       "    </tr>\n",
       "    <tr>\n",
       "      <th>...</th>\n",
       "      <td>...</td>\n",
       "      <td>...</td>\n",
       "      <td>...</td>\n",
       "      <td>...</td>\n",
       "      <td>...</td>\n",
       "    </tr>\n",
       "    <tr>\n",
       "      <th>992</th>\n",
       "      <td>Guillaume Hervé</td>\n",
       "      <td>50</td>\n",
       "      <td>Paris</td>\n",
       "      <td>53340</td>\n",
       "      <td>Célibataire</td>\n",
       "    </tr>\n",
       "    <tr>\n",
       "      <th>994</th>\n",
       "      <td>Susanne Duhamel</td>\n",
       "      <td>27</td>\n",
       "      <td>Paris</td>\n",
       "      <td>26171</td>\n",
       "      <td>Divorcé(e)</td>\n",
       "    </tr>\n",
       "    <tr>\n",
       "      <th>996</th>\n",
       "      <td>Roger Launay</td>\n",
       "      <td>40</td>\n",
       "      <td>Marseille</td>\n",
       "      <td>38474</td>\n",
       "      <td>Divorcé(e)</td>\n",
       "    </tr>\n",
       "    <tr>\n",
       "      <th>997</th>\n",
       "      <td>Philippine Lucas</td>\n",
       "      <td>27</td>\n",
       "      <td>Bordeaux</td>\n",
       "      <td>66760</td>\n",
       "      <td>Célibataire</td>\n",
       "    </tr>\n",
       "    <tr>\n",
       "      <th>998</th>\n",
       "      <td>Isaac Turpin</td>\n",
       "      <td>61</td>\n",
       "      <td>Lyon</td>\n",
       "      <td>75718</td>\n",
       "      <td>Divorcé(e)</td>\n",
       "    </tr>\n",
       "  </tbody>\n",
       "</table>\n",
       "<p>823 rows × 5 columns</p>\n",
       "</div>"
      ],
      "text/plain": [
       "          Nom_complet  Age      Ville  Salaire       Statut\n",
       "0    Madeleine Lenoir   56      Lille    59778  Célibataire\n",
       "1       Victor Picard   46       Lyon    31207  Célibataire\n",
       "2      Daniel Chauvin   32   Bordeaux    76269     Marié(e)\n",
       "3         Luce Renaud   60      Paris    45537     Marié(e)\n",
       "5          Alix David   38      Paris    32040     Marié(e)\n",
       "..                ...  ...        ...      ...          ...\n",
       "992   Guillaume Hervé   50      Paris    53340  Célibataire\n",
       "994   Susanne Duhamel   27      Paris    26171   Divorcé(e)\n",
       "996      Roger Launay   40  Marseille    38474   Divorcé(e)\n",
       "997  Philippine Lucas   27   Bordeaux    66760  Célibataire\n",
       "998      Isaac Turpin   61       Lyon    75718   Divorcé(e)\n",
       "\n",
       "[823 rows x 5 columns]"
      ]
     },
     "execution_count": 34,
     "metadata": {},
     "output_type": "execute_result"
    }
   ],
   "source": [
    "# Masque de filtrage\n",
    "mask = df[\"Age\"] > 25\n",
    "\n",
    "# Aperçu du massque\n",
    "display(mask)\n",
    "\n",
    "# Retourne toutes les lignes où la colonne Age est strictement supérieure à 25.\n",
    "# Ceci revient à dire : \"Afficher toutes les lignes où mask vaut True\".\n",
    "df[mask]"
   ]
  },
  {
   "cell_type": "markdown",
   "id": "1e06fe58",
   "metadata": {},
   "source": [
    "# 5. ➕ Opérations sur les colonnes"
   ]
  },
  {
   "cell_type": "markdown",
   "id": "afe76856",
   "metadata": {},
   "source": [
    "Dans Pandas, on peut facilement **modifier**, **créer** ou **supprimer** des colonnes. Ces opérations sont très courantes lorsqu’on prépare des données pour l’analyse ou le machine learning."
   ]
  },
  {
   "cell_type": "markdown",
   "id": "8f1bcfbd",
   "metadata": {},
   "source": [
    "### 5.1. Colonnes dérivées"
   ]
  },
  {
   "cell_type": "markdown",
   "id": "8e620113",
   "metadata": {},
   "source": [
    "Les opérations mathématiques sont vectorisées c'est à dire qu'elles s’appliquent à toute la colonne."
   ]
  },
  {
   "cell_type": "code",
   "execution_count": 35,
   "id": "c148e846",
   "metadata": {},
   "outputs": [
    {
     "data": {
      "text/html": [
       "<div>\n",
       "<style scoped>\n",
       "    .dataframe tbody tr th:only-of-type {\n",
       "        vertical-align: middle;\n",
       "    }\n",
       "\n",
       "    .dataframe tbody tr th {\n",
       "        vertical-align: top;\n",
       "    }\n",
       "\n",
       "    .dataframe thead th {\n",
       "        text-align: right;\n",
       "    }\n",
       "</style>\n",
       "<table border=\"1\" class=\"dataframe\">\n",
       "  <thead>\n",
       "    <tr style=\"text-align: right;\">\n",
       "      <th></th>\n",
       "      <th>Nom_complet</th>\n",
       "      <th>Age</th>\n",
       "      <th>Ville</th>\n",
       "      <th>Salaire</th>\n",
       "      <th>Statut</th>\n",
       "      <th>Salaire mensuel</th>\n",
       "    </tr>\n",
       "  </thead>\n",
       "  <tbody>\n",
       "    <tr>\n",
       "      <th>0</th>\n",
       "      <td>Madeleine Lenoir</td>\n",
       "      <td>56</td>\n",
       "      <td>Lille</td>\n",
       "      <td>59778</td>\n",
       "      <td>Célibataire</td>\n",
       "      <td>4981.500000</td>\n",
       "    </tr>\n",
       "    <tr>\n",
       "      <th>1</th>\n",
       "      <td>Victor Picard</td>\n",
       "      <td>46</td>\n",
       "      <td>Lyon</td>\n",
       "      <td>31207</td>\n",
       "      <td>Célibataire</td>\n",
       "      <td>2600.583333</td>\n",
       "    </tr>\n",
       "    <tr>\n",
       "      <th>2</th>\n",
       "      <td>Daniel Chauvin</td>\n",
       "      <td>32</td>\n",
       "      <td>Bordeaux</td>\n",
       "      <td>76269</td>\n",
       "      <td>Marié(e)</td>\n",
       "      <td>6355.750000</td>\n",
       "    </tr>\n",
       "    <tr>\n",
       "      <th>3</th>\n",
       "      <td>Luce Renaud</td>\n",
       "      <td>60</td>\n",
       "      <td>Paris</td>\n",
       "      <td>45537</td>\n",
       "      <td>Marié(e)</td>\n",
       "      <td>3794.750000</td>\n",
       "    </tr>\n",
       "    <tr>\n",
       "      <th>4</th>\n",
       "      <td>Agathe Grégoire</td>\n",
       "      <td>25</td>\n",
       "      <td>Lille</td>\n",
       "      <td>55757</td>\n",
       "      <td>Marié(e)</td>\n",
       "      <td>4646.416667</td>\n",
       "    </tr>\n",
       "    <tr>\n",
       "      <th>...</th>\n",
       "      <td>...</td>\n",
       "      <td>...</td>\n",
       "      <td>...</td>\n",
       "      <td>...</td>\n",
       "      <td>...</td>\n",
       "      <td>...</td>\n",
       "    </tr>\n",
       "    <tr>\n",
       "      <th>995</th>\n",
       "      <td>Denise Munoz</td>\n",
       "      <td>22</td>\n",
       "      <td>Paris</td>\n",
       "      <td>43481</td>\n",
       "      <td>Divorcé(e)</td>\n",
       "      <td>3623.416667</td>\n",
       "    </tr>\n",
       "    <tr>\n",
       "      <th>996</th>\n",
       "      <td>Roger Launay</td>\n",
       "      <td>40</td>\n",
       "      <td>Marseille</td>\n",
       "      <td>38474</td>\n",
       "      <td>Divorcé(e)</td>\n",
       "      <td>3206.166667</td>\n",
       "    </tr>\n",
       "    <tr>\n",
       "      <th>997</th>\n",
       "      <td>Philippine Lucas</td>\n",
       "      <td>27</td>\n",
       "      <td>Bordeaux</td>\n",
       "      <td>66760</td>\n",
       "      <td>Célibataire</td>\n",
       "      <td>5563.333333</td>\n",
       "    </tr>\n",
       "    <tr>\n",
       "      <th>998</th>\n",
       "      <td>Isaac Turpin</td>\n",
       "      <td>61</td>\n",
       "      <td>Lyon</td>\n",
       "      <td>75718</td>\n",
       "      <td>Divorcé(e)</td>\n",
       "      <td>6309.833333</td>\n",
       "    </tr>\n",
       "    <tr>\n",
       "      <th>999</th>\n",
       "      <td>Claire Boulanger</td>\n",
       "      <td>19</td>\n",
       "      <td>Marseille</td>\n",
       "      <td>64629</td>\n",
       "      <td>Célibataire</td>\n",
       "      <td>5385.750000</td>\n",
       "    </tr>\n",
       "  </tbody>\n",
       "</table>\n",
       "<p>1000 rows × 6 columns</p>\n",
       "</div>"
      ],
      "text/plain": [
       "          Nom_complet  Age      Ville  Salaire       Statut  Salaire mensuel\n",
       "0    Madeleine Lenoir   56      Lille    59778  Célibataire      4981.500000\n",
       "1       Victor Picard   46       Lyon    31207  Célibataire      2600.583333\n",
       "2      Daniel Chauvin   32   Bordeaux    76269     Marié(e)      6355.750000\n",
       "3         Luce Renaud   60      Paris    45537     Marié(e)      3794.750000\n",
       "4     Agathe Grégoire   25      Lille    55757     Marié(e)      4646.416667\n",
       "..                ...  ...        ...      ...          ...              ...\n",
       "995      Denise Munoz   22      Paris    43481   Divorcé(e)      3623.416667\n",
       "996      Roger Launay   40  Marseille    38474   Divorcé(e)      3206.166667\n",
       "997  Philippine Lucas   27   Bordeaux    66760  Célibataire      5563.333333\n",
       "998      Isaac Turpin   61       Lyon    75718   Divorcé(e)      6309.833333\n",
       "999  Claire Boulanger   19  Marseille    64629  Célibataire      5385.750000\n",
       "\n",
       "[1000 rows x 6 columns]"
      ]
     },
     "execution_count": 35,
     "metadata": {},
     "output_type": "execute_result"
    }
   ],
   "source": [
    "# Créer une nouvelle colonne pour le salaire mensuel\n",
    "df[\"Salaire mensuel\"] = df[\"Salaire\"] / 12\n",
    "\n",
    "df"
   ]
  },
  {
   "cell_type": "markdown",
   "id": "2aa30750",
   "metadata": {},
   "source": [
    "### 🧩 Exercices"
   ]
  },
  {
   "cell_type": "markdown",
   "id": "83050556",
   "metadata": {},
   "source": [
    "> Créez une colonne \"Age/Salaire\" qui représente le ratio entre l’âge et le salaire annuel."
   ]
  },
  {
   "cell_type": "code",
   "execution_count": 36,
   "id": "a096a4a6",
   "metadata": {},
   "outputs": [],
   "source": [
    "# Votre code ici"
   ]
  },
  {
   "cell_type": "markdown",
   "id": "13d873cd",
   "metadata": {},
   "source": [
    "> 💰 Les employés qui gagnent moins de 60 000 € par an reçoivent une prime de 5 000 €, les autres 2 000 €.  \n",
    "> Créez une colonne \"Prime\" avec la valeur appropriée selon le salaire.  \n",
    ">\n",
    "> 💡 indice : vous pouvez utiliser **Numpy** avec sa méthode **where** (ex : `np.where()`)"
   ]
  },
  {
   "cell_type": "code",
   "execution_count": 37,
   "id": "9c6d9172",
   "metadata": {},
   "outputs": [],
   "source": [
    "# Votre code ici"
   ]
  },
  {
   "cell_type": "markdown",
   "id": "dd0cb2fb",
   "metadata": {},
   "source": [
    "### 5.2. Transformations personnalisées avec .apply()"
   ]
  },
  {
   "cell_type": "markdown",
   "id": "b420219a",
   "metadata": {},
   "source": [
    "Une colonne dérivée n’a pas besoin d’être un calcul numérique. On peut aussi :\n",
    "- transformer du texte,\n",
    "- extraire de l’information,\n",
    "- ou catégoriser des données.\n",
    "\n",
    "La méthode `.apply()` permet d’appliquer une **fonction** ou une **lambda** à chaque élément d’une colonne (ou d’une ligne).\n",
    "C’est très utile lorsqu’on veut transformer les données d’une manière plus complexe qu’une simple opération mathématique.\n",
    "\n",
    "Qu'est-ce qu'une lambda ? : [Lire cet article](https://www.w3schools.com/python/python_lambda.asp)"
   ]
  },
  {
   "cell_type": "code",
   "execution_count": 38,
   "id": "b56f2c7e",
   "metadata": {},
   "outputs": [
    {
     "data": {
      "text/plain": [
       "Ville_complete\n",
       "Paris (France)        211\n",
       "Lille (France)        206\n",
       "Lyon (France)         201\n",
       "Marseille (France)    196\n",
       "Bordeaux (France)     186\n",
       "Name: count, dtype: int64"
      ]
     },
     "execution_count": 38,
     "metadata": {},
     "output_type": "execute_result"
    }
   ],
   "source": [
    "# Ajouter le suffixe (France) à chaque ville de chaque ligne\n",
    "df[\"Ville_complete\"] = df[\"Ville\"].apply(lambda v: v + \" (France)\")\n",
    "\n",
    "df.Ville_complete.value_counts()\n",
    "\n",
    "# 🧠 Équivalent avec une fonction \n",
    "#\n",
    "#def ajouter_suffixe(ville):\n",
    "#    return ville + \" (France)\"\n",
    "#\n",
    "#df[\"Ville_complete\"] = df[\"Ville\"].apply(ajouter_suffixe)"
   ]
  },
  {
   "cell_type": "markdown",
   "id": "a543719b",
   "metadata": {},
   "source": [
    "### 🧩 Exercices"
   ]
  },
  {
   "cell_type": "markdown",
   "id": "c8902065",
   "metadata": {},
   "source": [
    "> Créez deux colonnes supplémentaires à partir du nom complet :\n",
    "> - une colonne `Prénom`\n",
    "> - une colonne `Nom_de_famille`\n",
    ">\n",
    "> 💡 indice : pensez à la méthode `.split()` d'un type `string`"
   ]
  },
  {
   "cell_type": "code",
   "execution_count": 39,
   "id": "72002e3b",
   "metadata": {},
   "outputs": [],
   "source": [
    "# Votre code ici"
   ]
  },
  {
   "cell_type": "markdown",
   "id": "d91286c8",
   "metadata": {},
   "source": [
    "> Créez une colonne `Position_ville` qui indique si la ville est située dans la moitié nord ou dans la moitié sud.  \n",
    "> 💡 indice : on considère Lille et Paris au nord, Lyon et Marseille au sud."
   ]
  },
  {
   "cell_type": "code",
   "execution_count": 40,
   "id": "fb4895fd",
   "metadata": {},
   "outputs": [],
   "source": [
    "# Votre code ici"
   ]
  },
  {
   "cell_type": "markdown",
   "id": "415620c0",
   "metadata": {},
   "source": [
    "### 5.3. Renommer ou supprimer des colonnes"
   ]
  },
  {
   "cell_type": "code",
   "execution_count": 41,
   "id": "2c699397",
   "metadata": {},
   "outputs": [
    {
     "data": {
      "text/html": [
       "<div>\n",
       "<style scoped>\n",
       "    .dataframe tbody tr th:only-of-type {\n",
       "        vertical-align: middle;\n",
       "    }\n",
       "\n",
       "    .dataframe tbody tr th {\n",
       "        vertical-align: top;\n",
       "    }\n",
       "\n",
       "    .dataframe thead th {\n",
       "        text-align: right;\n",
       "    }\n",
       "</style>\n",
       "<table border=\"1\" class=\"dataframe\">\n",
       "  <thead>\n",
       "    <tr style=\"text-align: right;\">\n",
       "      <th></th>\n",
       "      <th>Full_name</th>\n",
       "      <th>Age</th>\n",
       "      <th>Location</th>\n",
       "      <th>Income</th>\n",
       "      <th>Status</th>\n",
       "      <th>Salaire mensuel</th>\n",
       "      <th>Ville_complete</th>\n",
       "    </tr>\n",
       "  </thead>\n",
       "  <tbody>\n",
       "    <tr>\n",
       "      <th>0</th>\n",
       "      <td>Madeleine Lenoir</td>\n",
       "      <td>56</td>\n",
       "      <td>Lille</td>\n",
       "      <td>59778</td>\n",
       "      <td>Célibataire</td>\n",
       "      <td>4981.500000</td>\n",
       "      <td>Lille (France)</td>\n",
       "    </tr>\n",
       "    <tr>\n",
       "      <th>1</th>\n",
       "      <td>Victor Picard</td>\n",
       "      <td>46</td>\n",
       "      <td>Lyon</td>\n",
       "      <td>31207</td>\n",
       "      <td>Célibataire</td>\n",
       "      <td>2600.583333</td>\n",
       "      <td>Lyon (France)</td>\n",
       "    </tr>\n",
       "    <tr>\n",
       "      <th>2</th>\n",
       "      <td>Daniel Chauvin</td>\n",
       "      <td>32</td>\n",
       "      <td>Bordeaux</td>\n",
       "      <td>76269</td>\n",
       "      <td>Marié(e)</td>\n",
       "      <td>6355.750000</td>\n",
       "      <td>Bordeaux (France)</td>\n",
       "    </tr>\n",
       "    <tr>\n",
       "      <th>3</th>\n",
       "      <td>Luce Renaud</td>\n",
       "      <td>60</td>\n",
       "      <td>Paris</td>\n",
       "      <td>45537</td>\n",
       "      <td>Marié(e)</td>\n",
       "      <td>3794.750000</td>\n",
       "      <td>Paris (France)</td>\n",
       "    </tr>\n",
       "    <tr>\n",
       "      <th>4</th>\n",
       "      <td>Agathe Grégoire</td>\n",
       "      <td>25</td>\n",
       "      <td>Lille</td>\n",
       "      <td>55757</td>\n",
       "      <td>Marié(e)</td>\n",
       "      <td>4646.416667</td>\n",
       "      <td>Lille (France)</td>\n",
       "    </tr>\n",
       "    <tr>\n",
       "      <th>...</th>\n",
       "      <td>...</td>\n",
       "      <td>...</td>\n",
       "      <td>...</td>\n",
       "      <td>...</td>\n",
       "      <td>...</td>\n",
       "      <td>...</td>\n",
       "      <td>...</td>\n",
       "    </tr>\n",
       "    <tr>\n",
       "      <th>995</th>\n",
       "      <td>Denise Munoz</td>\n",
       "      <td>22</td>\n",
       "      <td>Paris</td>\n",
       "      <td>43481</td>\n",
       "      <td>Divorcé(e)</td>\n",
       "      <td>3623.416667</td>\n",
       "      <td>Paris (France)</td>\n",
       "    </tr>\n",
       "    <tr>\n",
       "      <th>996</th>\n",
       "      <td>Roger Launay</td>\n",
       "      <td>40</td>\n",
       "      <td>Marseille</td>\n",
       "      <td>38474</td>\n",
       "      <td>Divorcé(e)</td>\n",
       "      <td>3206.166667</td>\n",
       "      <td>Marseille (France)</td>\n",
       "    </tr>\n",
       "    <tr>\n",
       "      <th>997</th>\n",
       "      <td>Philippine Lucas</td>\n",
       "      <td>27</td>\n",
       "      <td>Bordeaux</td>\n",
       "      <td>66760</td>\n",
       "      <td>Célibataire</td>\n",
       "      <td>5563.333333</td>\n",
       "      <td>Bordeaux (France)</td>\n",
       "    </tr>\n",
       "    <tr>\n",
       "      <th>998</th>\n",
       "      <td>Isaac Turpin</td>\n",
       "      <td>61</td>\n",
       "      <td>Lyon</td>\n",
       "      <td>75718</td>\n",
       "      <td>Divorcé(e)</td>\n",
       "      <td>6309.833333</td>\n",
       "      <td>Lyon (France)</td>\n",
       "    </tr>\n",
       "    <tr>\n",
       "      <th>999</th>\n",
       "      <td>Claire Boulanger</td>\n",
       "      <td>19</td>\n",
       "      <td>Marseille</td>\n",
       "      <td>64629</td>\n",
       "      <td>Célibataire</td>\n",
       "      <td>5385.750000</td>\n",
       "      <td>Marseille (France)</td>\n",
       "    </tr>\n",
       "  </tbody>\n",
       "</table>\n",
       "<p>1000 rows × 7 columns</p>\n",
       "</div>"
      ],
      "text/plain": [
       "            Full_name  Age   Location  Income       Status  Salaire mensuel  \\\n",
       "0    Madeleine Lenoir   56      Lille   59778  Célibataire      4981.500000   \n",
       "1       Victor Picard   46       Lyon   31207  Célibataire      2600.583333   \n",
       "2      Daniel Chauvin   32   Bordeaux   76269     Marié(e)      6355.750000   \n",
       "3         Luce Renaud   60      Paris   45537     Marié(e)      3794.750000   \n",
       "4     Agathe Grégoire   25      Lille   55757     Marié(e)      4646.416667   \n",
       "..                ...  ...        ...     ...          ...              ...   \n",
       "995      Denise Munoz   22      Paris   43481   Divorcé(e)      3623.416667   \n",
       "996      Roger Launay   40  Marseille   38474   Divorcé(e)      3206.166667   \n",
       "997  Philippine Lucas   27   Bordeaux   66760  Célibataire      5563.333333   \n",
       "998      Isaac Turpin   61       Lyon   75718   Divorcé(e)      6309.833333   \n",
       "999  Claire Boulanger   19  Marseille   64629  Célibataire      5385.750000   \n",
       "\n",
       "         Ville_complete  \n",
       "0        Lille (France)  \n",
       "1         Lyon (France)  \n",
       "2     Bordeaux (France)  \n",
       "3        Paris (France)  \n",
       "4        Lille (France)  \n",
       "..                  ...  \n",
       "995      Paris (France)  \n",
       "996  Marseille (France)  \n",
       "997   Bordeaux (France)  \n",
       "998       Lyon (France)  \n",
       "999  Marseille (France)  \n",
       "\n",
       "[1000 rows x 7 columns]"
      ]
     },
     "execution_count": 41,
     "metadata": {},
     "output_type": "execute_result"
    }
   ],
   "source": [
    "# Renommer en anglais les différentes colonnes\n",
    "df = df.rename(columns={\"Nom_complet\": \"Full_name\", \"Ville\": \"Location\", \"Salaire\": \"Income\", \"Statut\": \"Status\"})\n",
    "\n",
    "df"
   ]
  },
  {
   "cell_type": "code",
   "execution_count": 42,
   "id": "557acbc1",
   "metadata": {},
   "outputs": [
    {
     "data": {
      "text/html": [
       "<div>\n",
       "<style scoped>\n",
       "    .dataframe tbody tr th:only-of-type {\n",
       "        vertical-align: middle;\n",
       "    }\n",
       "\n",
       "    .dataframe tbody tr th {\n",
       "        vertical-align: top;\n",
       "    }\n",
       "\n",
       "    .dataframe thead th {\n",
       "        text-align: right;\n",
       "    }\n",
       "</style>\n",
       "<table border=\"1\" class=\"dataframe\">\n",
       "  <thead>\n",
       "    <tr style=\"text-align: right;\">\n",
       "      <th></th>\n",
       "      <th>Full_name</th>\n",
       "      <th>Age</th>\n",
       "      <th>Location</th>\n",
       "      <th>Income</th>\n",
       "      <th>Status</th>\n",
       "    </tr>\n",
       "  </thead>\n",
       "  <tbody>\n",
       "    <tr>\n",
       "      <th>0</th>\n",
       "      <td>Madeleine Lenoir</td>\n",
       "      <td>56</td>\n",
       "      <td>Lille</td>\n",
       "      <td>59778</td>\n",
       "      <td>Célibataire</td>\n",
       "    </tr>\n",
       "    <tr>\n",
       "      <th>1</th>\n",
       "      <td>Victor Picard</td>\n",
       "      <td>46</td>\n",
       "      <td>Lyon</td>\n",
       "      <td>31207</td>\n",
       "      <td>Célibataire</td>\n",
       "    </tr>\n",
       "    <tr>\n",
       "      <th>2</th>\n",
       "      <td>Daniel Chauvin</td>\n",
       "      <td>32</td>\n",
       "      <td>Bordeaux</td>\n",
       "      <td>76269</td>\n",
       "      <td>Marié(e)</td>\n",
       "    </tr>\n",
       "    <tr>\n",
       "      <th>3</th>\n",
       "      <td>Luce Renaud</td>\n",
       "      <td>60</td>\n",
       "      <td>Paris</td>\n",
       "      <td>45537</td>\n",
       "      <td>Marié(e)</td>\n",
       "    </tr>\n",
       "    <tr>\n",
       "      <th>4</th>\n",
       "      <td>Agathe Grégoire</td>\n",
       "      <td>25</td>\n",
       "      <td>Lille</td>\n",
       "      <td>55757</td>\n",
       "      <td>Marié(e)</td>\n",
       "    </tr>\n",
       "    <tr>\n",
       "      <th>...</th>\n",
       "      <td>...</td>\n",
       "      <td>...</td>\n",
       "      <td>...</td>\n",
       "      <td>...</td>\n",
       "      <td>...</td>\n",
       "    </tr>\n",
       "    <tr>\n",
       "      <th>995</th>\n",
       "      <td>Denise Munoz</td>\n",
       "      <td>22</td>\n",
       "      <td>Paris</td>\n",
       "      <td>43481</td>\n",
       "      <td>Divorcé(e)</td>\n",
       "    </tr>\n",
       "    <tr>\n",
       "      <th>996</th>\n",
       "      <td>Roger Launay</td>\n",
       "      <td>40</td>\n",
       "      <td>Marseille</td>\n",
       "      <td>38474</td>\n",
       "      <td>Divorcé(e)</td>\n",
       "    </tr>\n",
       "    <tr>\n",
       "      <th>997</th>\n",
       "      <td>Philippine Lucas</td>\n",
       "      <td>27</td>\n",
       "      <td>Bordeaux</td>\n",
       "      <td>66760</td>\n",
       "      <td>Célibataire</td>\n",
       "    </tr>\n",
       "    <tr>\n",
       "      <th>998</th>\n",
       "      <td>Isaac Turpin</td>\n",
       "      <td>61</td>\n",
       "      <td>Lyon</td>\n",
       "      <td>75718</td>\n",
       "      <td>Divorcé(e)</td>\n",
       "    </tr>\n",
       "    <tr>\n",
       "      <th>999</th>\n",
       "      <td>Claire Boulanger</td>\n",
       "      <td>19</td>\n",
       "      <td>Marseille</td>\n",
       "      <td>64629</td>\n",
       "      <td>Célibataire</td>\n",
       "    </tr>\n",
       "  </tbody>\n",
       "</table>\n",
       "<p>1000 rows × 5 columns</p>\n",
       "</div>"
      ],
      "text/plain": [
       "            Full_name  Age   Location  Income       Status\n",
       "0    Madeleine Lenoir   56      Lille   59778  Célibataire\n",
       "1       Victor Picard   46       Lyon   31207  Célibataire\n",
       "2      Daniel Chauvin   32   Bordeaux   76269     Marié(e)\n",
       "3         Luce Renaud   60      Paris   45537     Marié(e)\n",
       "4     Agathe Grégoire   25      Lille   55757     Marié(e)\n",
       "..                ...  ...        ...     ...          ...\n",
       "995      Denise Munoz   22      Paris   43481   Divorcé(e)\n",
       "996      Roger Launay   40  Marseille   38474   Divorcé(e)\n",
       "997  Philippine Lucas   27   Bordeaux   66760  Célibataire\n",
       "998      Isaac Turpin   61       Lyon   75718   Divorcé(e)\n",
       "999  Claire Boulanger   19  Marseille   64629  Célibataire\n",
       "\n",
       "[1000 rows x 5 columns]"
      ]
     },
     "execution_count": 42,
     "metadata": {},
     "output_type": "execute_result"
    }
   ],
   "source": [
    "# Supprimer des colonnes\n",
    "df = df.drop([\"Salaire mensuel\", \"Ville_complete\"], axis=1)\n",
    "\n",
    "df\n",
    "\n",
    "# 🧠 Comprendre les axes dans pandas : \n",
    "# On utilise `axis=0` lorsqu'on veut agir verticalement (lignes)\n",
    "# On utilise `axis=1` lorsqu'on veut agir horizontalement (colonnes)"
   ]
  },
  {
   "cell_type": "markdown",
   "id": "6b7e311e",
   "metadata": {},
   "source": [
    "# 6. 💊 Traitement de données manquantes"
   ]
  },
  {
   "cell_type": "markdown",
   "id": "24a9f46a",
   "metadata": {},
   "source": [
    "Lorsque l’on travaille avec des données réelles, il est très fréquent de rencontrer des **valeurs manquantes** : une case vide dans un fichier CSV, une valeur absente dans un formulaire, etc.\n",
    "\n",
    "Avant de décider quoi faire avec ces valeurs, il faut les détecter, comprendre où elles sont, puis choisir une stratégie adaptée : **suppression**, **remplacement**, **interpolation**, etc."
   ]
  },
  {
   "cell_type": "markdown",
   "id": "e02693e8",
   "metadata": {},
   "source": [
    "### 6.1 Détection des valeurs manquantes"
   ]
  },
  {
   "cell_type": "code",
   "execution_count": 43,
   "id": "1cd3252a",
   "metadata": {},
   "outputs": [
    {
     "data": {
      "text/html": [
       "<div>\n",
       "<style scoped>\n",
       "    .dataframe tbody tr th:only-of-type {\n",
       "        vertical-align: middle;\n",
       "    }\n",
       "\n",
       "    .dataframe tbody tr th {\n",
       "        vertical-align: top;\n",
       "    }\n",
       "\n",
       "    .dataframe thead th {\n",
       "        text-align: right;\n",
       "    }\n",
       "</style>\n",
       "<table border=\"1\" class=\"dataframe\">\n",
       "  <thead>\n",
       "    <tr style=\"text-align: right;\">\n",
       "      <th></th>\n",
       "      <th>Nom_complet</th>\n",
       "      <th>Age</th>\n",
       "      <th>Ville</th>\n",
       "      <th>Salaire</th>\n",
       "      <th>Statut</th>\n",
       "    </tr>\n",
       "  </thead>\n",
       "  <tbody>\n",
       "    <tr>\n",
       "      <th>0</th>\n",
       "      <td>Alain Brunet</td>\n",
       "      <td>40.0</td>\n",
       "      <td>Bordeaux</td>\n",
       "      <td>47405.0</td>\n",
       "      <td>Marié(e)</td>\n",
       "    </tr>\n",
       "    <tr>\n",
       "      <th>1</th>\n",
       "      <td>Julie Robert</td>\n",
       "      <td>42.0</td>\n",
       "      <td>Marseille</td>\n",
       "      <td>71533.0</td>\n",
       "      <td>Marié(e)</td>\n",
       "    </tr>\n",
       "    <tr>\n",
       "      <th>2</th>\n",
       "      <td>Thomas Schmitt</td>\n",
       "      <td>25.0</td>\n",
       "      <td>Lyon</td>\n",
       "      <td>56386.0</td>\n",
       "      <td>Divorcé(e)</td>\n",
       "    </tr>\n",
       "    <tr>\n",
       "      <th>3</th>\n",
       "      <td>Alexandre Hoareau</td>\n",
       "      <td>62.0</td>\n",
       "      <td>Marseille</td>\n",
       "      <td>45373.0</td>\n",
       "      <td>Célibataire</td>\n",
       "    </tr>\n",
       "    <tr>\n",
       "      <th>4</th>\n",
       "      <td>Jérôme Courtois</td>\n",
       "      <td>39.0</td>\n",
       "      <td>Marseille</td>\n",
       "      <td>40827.0</td>\n",
       "      <td>Divorcé(e)</td>\n",
       "    </tr>\n",
       "  </tbody>\n",
       "</table>\n",
       "</div>"
      ],
      "text/plain": [
       "         Nom_complet   Age      Ville  Salaire       Statut\n",
       "0       Alain Brunet  40.0   Bordeaux  47405.0     Marié(e)\n",
       "1       Julie Robert  42.0  Marseille  71533.0     Marié(e)\n",
       "2     Thomas Schmitt  25.0       Lyon  56386.0   Divorcé(e)\n",
       "3  Alexandre Hoareau  62.0  Marseille  45373.0  Célibataire\n",
       "4    Jérôme Courtois  39.0  Marseille  40827.0   Divorcé(e)"
      ]
     },
     "execution_count": 43,
     "metadata": {},
     "output_type": "execute_result"
    }
   ],
   "source": [
    "# Chargement du dataset du fichier employees_nulls.csv\n",
    "df_employees_nulls = pd.read_csv(\"data/employees_nulls.csv\")\n",
    "\n",
    "df_employees_nulls.head()"
   ]
  },
  {
   "cell_type": "markdown",
   "id": "501ad29a",
   "metadata": {},
   "source": [
    "#### a. Visualisation d'ensemble"
   ]
  },
  {
   "cell_type": "markdown",
   "id": "a1e10feb",
   "metadata": {},
   "source": [
    "Il est possible de repérer les valeurs manquantes dans chaque cellule du dataFrame. Les cellules marquées `True` indiquent une valeur manquante."
   ]
  },
  {
   "cell_type": "code",
   "execution_count": 44,
   "id": "96d7aef3",
   "metadata": {},
   "outputs": [
    {
     "data": {
      "text/html": [
       "<div>\n",
       "<style scoped>\n",
       "    .dataframe tbody tr th:only-of-type {\n",
       "        vertical-align: middle;\n",
       "    }\n",
       "\n",
       "    .dataframe tbody tr th {\n",
       "        vertical-align: top;\n",
       "    }\n",
       "\n",
       "    .dataframe thead th {\n",
       "        text-align: right;\n",
       "    }\n",
       "</style>\n",
       "<table border=\"1\" class=\"dataframe\">\n",
       "  <thead>\n",
       "    <tr style=\"text-align: right;\">\n",
       "      <th></th>\n",
       "      <th>Nom_complet</th>\n",
       "      <th>Age</th>\n",
       "      <th>Ville</th>\n",
       "      <th>Salaire</th>\n",
       "      <th>Statut</th>\n",
       "    </tr>\n",
       "  </thead>\n",
       "  <tbody>\n",
       "    <tr>\n",
       "      <th>0</th>\n",
       "      <td>False</td>\n",
       "      <td>False</td>\n",
       "      <td>False</td>\n",
       "      <td>False</td>\n",
       "      <td>False</td>\n",
       "    </tr>\n",
       "    <tr>\n",
       "      <th>1</th>\n",
       "      <td>False</td>\n",
       "      <td>False</td>\n",
       "      <td>False</td>\n",
       "      <td>False</td>\n",
       "      <td>False</td>\n",
       "    </tr>\n",
       "    <tr>\n",
       "      <th>2</th>\n",
       "      <td>False</td>\n",
       "      <td>False</td>\n",
       "      <td>False</td>\n",
       "      <td>False</td>\n",
       "      <td>False</td>\n",
       "    </tr>\n",
       "    <tr>\n",
       "      <th>3</th>\n",
       "      <td>False</td>\n",
       "      <td>False</td>\n",
       "      <td>False</td>\n",
       "      <td>False</td>\n",
       "      <td>False</td>\n",
       "    </tr>\n",
       "    <tr>\n",
       "      <th>4</th>\n",
       "      <td>False</td>\n",
       "      <td>False</td>\n",
       "      <td>False</td>\n",
       "      <td>False</td>\n",
       "      <td>False</td>\n",
       "    </tr>\n",
       "    <tr>\n",
       "      <th>...</th>\n",
       "      <td>...</td>\n",
       "      <td>...</td>\n",
       "      <td>...</td>\n",
       "      <td>...</td>\n",
       "      <td>...</td>\n",
       "    </tr>\n",
       "    <tr>\n",
       "      <th>995</th>\n",
       "      <td>False</td>\n",
       "      <td>False</td>\n",
       "      <td>False</td>\n",
       "      <td>True</td>\n",
       "      <td>False</td>\n",
       "    </tr>\n",
       "    <tr>\n",
       "      <th>996</th>\n",
       "      <td>False</td>\n",
       "      <td>False</td>\n",
       "      <td>False</td>\n",
       "      <td>False</td>\n",
       "      <td>False</td>\n",
       "    </tr>\n",
       "    <tr>\n",
       "      <th>997</th>\n",
       "      <td>False</td>\n",
       "      <td>False</td>\n",
       "      <td>False</td>\n",
       "      <td>False</td>\n",
       "      <td>False</td>\n",
       "    </tr>\n",
       "    <tr>\n",
       "      <th>998</th>\n",
       "      <td>False</td>\n",
       "      <td>True</td>\n",
       "      <td>False</td>\n",
       "      <td>False</td>\n",
       "      <td>False</td>\n",
       "    </tr>\n",
       "    <tr>\n",
       "      <th>999</th>\n",
       "      <td>False</td>\n",
       "      <td>False</td>\n",
       "      <td>False</td>\n",
       "      <td>False</td>\n",
       "      <td>False</td>\n",
       "    </tr>\n",
       "  </tbody>\n",
       "</table>\n",
       "<p>1000 rows × 5 columns</p>\n",
       "</div>"
      ],
      "text/plain": [
       "     Nom_complet    Age  Ville  Salaire  Statut\n",
       "0          False  False  False    False   False\n",
       "1          False  False  False    False   False\n",
       "2          False  False  False    False   False\n",
       "3          False  False  False    False   False\n",
       "4          False  False  False    False   False\n",
       "..           ...    ...    ...      ...     ...\n",
       "995        False  False  False     True   False\n",
       "996        False  False  False    False   False\n",
       "997        False  False  False    False   False\n",
       "998        False   True  False    False   False\n",
       "999        False  False  False    False   False\n",
       "\n",
       "[1000 rows x 5 columns]"
      ]
     },
     "execution_count": 44,
     "metadata": {},
     "output_type": "execute_result"
    }
   ],
   "source": [
    "df_employees_nulls.isna()"
   ]
  },
  {
   "cell_type": "markdown",
   "id": "8e07dfa8",
   "metadata": {},
   "source": [
    "#### b. Visualisation par colonne"
   ]
  },
  {
   "cell_type": "markdown",
   "id": "8ed703ae",
   "metadata": {},
   "source": [
    "Pour compter le nombre de valeurs manquantes par colonne, on utilise la combinaison de `.isna()` et `.sum()`.\n",
    "La méthode `.isna()` identifie les cellules manquantes en retournant `True` ou `False`, et `.sum()` **additionne ensuite ces True**.\n",
    "\n",
    "En effet, en Python (et donc dans Pandas), les valeurs booléennes ont une valeur numérique implicite :\n",
    "- `True` vaut 1\n",
    "- `False` vaut 0\n",
    "\n",
    "Ainsi, `.sum()` appliqué à une série booléenne permet de compter les `True`, c’est-à-dire ici, les valeurs manquantes."
   ]
  },
  {
   "cell_type": "code",
   "execution_count": 45,
   "id": "450a9ff2",
   "metadata": {},
   "outputs": [
    {
     "data": {
      "text/plain": [
       "Nom_complet    44\n",
       "Age            52\n",
       "Ville          46\n",
       "Salaire        46\n",
       "Statut         58\n",
       "dtype: int64"
      ]
     },
     "execution_count": 45,
     "metadata": {},
     "output_type": "execute_result"
    }
   ],
   "source": [
    "# Compter le nombre de valeurs manquantes par colonne\n",
    "df_employees_nulls.isna().sum()"
   ]
  },
  {
   "cell_type": "markdown",
   "id": "34315ce4",
   "metadata": {},
   "source": [
    "#### c. Comptage du nombre de lignes concernées"
   ]
  },
  {
   "cell_type": "markdown",
   "id": "78937a1b",
   "metadata": {},
   "source": [
    "Pour compter le nombre de lignes contenant au moins une valeur manquante, on utilise la combinaison de `.isna()`, `.any(axis=1)`, `.sum()`:\n",
    "- `.isna()` renvoie un DataFrame de booléens (True si la cellule est manquante, False sinon)\n",
    "- `.any(axis=1)` parcourt chaque ligne (axis=1 signifie \"le long des colonnes\") et retourne True si au moins une des colonnes contient une valeur manquante sur cette ligne\n",
    "- `.sum()` additionne les True (chaque True vaut 1), ce qui donne le nombre total de lignes concernées"
   ]
  },
  {
   "cell_type": "code",
   "execution_count": 46,
   "id": "6f53b43c",
   "metadata": {},
   "outputs": [
    {
     "data": {
      "text/plain": [
       "np.int64(226)"
      ]
     },
     "execution_count": 46,
     "metadata": {},
     "output_type": "execute_result"
    }
   ],
   "source": [
    "# Voir le nombre de lignes contenant au moins une valeur manquante\n",
    "df_employees_nulls.isna().any(axis=1).sum()"
   ]
  },
  {
   "cell_type": "markdown",
   "id": "b75fd35d",
   "metadata": {},
   "source": [
    "### 🧩 Exercices (sur le dataset **\"data/employees_nulls_training.csv\"**)"
   ]
  },
  {
   "cell_type": "markdown",
   "id": "e73c8c8d",
   "metadata": {},
   "source": [
    "⚠️ Assurez-vous d’avoir préalablement chargé le fichier `data/employees_nulls_training.csv`"
   ]
  },
  {
   "cell_type": "markdown",
   "id": "19d4d577",
   "metadata": {},
   "source": [
    "> 1. Utilisez une méthode pour vérifier s’il y a au moins une valeur manquante dans tout le DataFrame.\n",
    "> 2. Affichez le nombre de valeurs manquantes pour chaque colonne\n",
    "> 3. Affichez toutes les lignes contenant au moins une valeur manquante.\n",
    "> 4. Affichez pour chaque colonne le pourcentage de valeurs manquantes,"
   ]
  },
  {
   "cell_type": "code",
   "execution_count": 47,
   "id": "e75848cf",
   "metadata": {},
   "outputs": [],
   "source": [
    "# Votre code ici"
   ]
  },
  {
   "cell_type": "markdown",
   "id": "a2c01892",
   "metadata": {},
   "source": [
    "### 6.2 Traitement des valeurs manquantes"
   ]
  },
  {
   "cell_type": "markdown",
   "id": "86f77858",
   "metadata": {},
   "source": [
    "#### a. Remplacement par une valeur statistique (ex: moyenne ou médiane)"
   ]
  },
  {
   "cell_type": "code",
   "execution_count": 48,
   "id": "af663728",
   "metadata": {},
   "outputs": [
    {
     "data": {
      "text/plain": [
       "Nom_complet    44\n",
       "Age             0\n",
       "Ville          46\n",
       "Salaire        46\n",
       "Statut         58\n",
       "dtype: int64"
      ]
     },
     "execution_count": 48,
     "metadata": {},
     "output_type": "execute_result"
    }
   ],
   "source": [
    "# Exemple : remplacer les âges manquants par la moyenne des âges.\n",
    "df_employees_nulls[\"Age\"] = df_employees_nulls[\"Age\"].fillna(df[\"Age\"].mean())\n",
    "\n",
    "df_employees_nulls.isna().sum()"
   ]
  },
  {
   "cell_type": "markdown",
   "id": "b21de41a",
   "metadata": {},
   "source": [
    "#### b. Remplacement selon une logique conditionnelle ou métier"
   ]
  },
  {
   "cell_type": "code",
   "execution_count": 49,
   "id": "08d7bfd2",
   "metadata": {},
   "outputs": [
    {
     "data": {
      "text/plain": [
       "Nom_complet    44\n",
       "Age             0\n",
       "Ville           0\n",
       "Salaire        46\n",
       "Statut         58\n",
       "dtype: int64"
      ]
     },
     "execution_count": 49,
     "metadata": {},
     "output_type": "execute_result"
    }
   ],
   "source": [
    "# Exemple : si la ville est manquante, on met \"Non précisé\"\n",
    "df_employees_nulls[\"Ville\"] = df_employees_nulls[\"Ville\"].fillna(\"Non précisé\")\n",
    "\n",
    "df_employees_nulls.isna().sum()"
   ]
  },
  {
   "cell_type": "markdown",
   "id": "4b0b49e1",
   "metadata": {},
   "source": [
    "#### c. Supprimer les lignes contenant des valeurs manquantes"
   ]
  },
  {
   "cell_type": "markdown",
   "id": "a75eec9e",
   "metadata": {},
   "source": [
    "Cette technique est utilisée lorsque les lignes incomplètes sont peu nombreuses ou peu importantes car dans le cas contraire il y a des risques de perdre trop de données."
   ]
  },
  {
   "cell_type": "code",
   "execution_count": 50,
   "id": "78b0c1a0",
   "metadata": {},
   "outputs": [
    {
     "data": {
      "text/plain": [
       "Nom_complet    0\n",
       "Age            0\n",
       "Ville          0\n",
       "Salaire        0\n",
       "Statut         0\n",
       "dtype: int64"
      ]
     },
     "execution_count": 50,
     "metadata": {},
     "output_type": "execute_result"
    }
   ],
   "source": [
    "df_employees_nulls = df_employees_nulls.dropna()\n",
    "\n",
    "df_employees_nulls.isna().sum()"
   ]
  },
  {
   "cell_type": "markdown",
   "id": "2c0d1091",
   "metadata": {},
   "source": [
    "### 🧩 Exercices (sur le dataset **\"data/employees_nulls_training.csv\"**)"
   ]
  },
  {
   "cell_type": "markdown",
   "id": "b53cce5e",
   "metadata": {},
   "source": [
    "⚠️ Assurez-vous d’avoir préalablement chargé le fichier `data/employees_nulls_training.csv`"
   ]
  },
  {
   "cell_type": "markdown",
   "id": "de84060b",
   "metadata": {},
   "source": [
    "> 1. Supprimez toutes les lignes où le nom est manquant.\n",
    "> 2. Remplacez les valeurs manquantes de la colonne `Salaire` par la médiane de cette colonne.\n",
    "> 3. Remplacez les valeurs manquantes de la colonne `Age` par la moyenne de cette colonne.\n",
    "> 4. Remplacez les valeurs manquantes de la colonne `Ville` par \"Inconnu\".\n",
    "> 5. Si une colonne est indispensable à l’analys de données (ex. : `Statut`), propose une stratégie justifiée : suppression de la ligne ou remplacement."
   ]
  },
  {
   "cell_type": "code",
   "execution_count": 51,
   "id": "8d326b21",
   "metadata": {},
   "outputs": [],
   "source": [
    "# Votre code ici"
   ]
  },
  {
   "cell_type": "markdown",
   "id": "172f6a39",
   "metadata": {},
   "source": [
    "# 7. 📊 Groupement et agrégation"
   ]
  },
  {
   "cell_type": "markdown",
   "id": "4eb3d26c",
   "metadata": {},
   "source": [
    "Le groupement permet de **segmenter** un jeu de données en **sous-ensembles** (par exemple par ville, par catégorie ou par client), puis d’appliquer une **fonction d’agrégation** à chaque groupe : somme, moyenne, maximum, etc.\n",
    "\n",
    "C’est une opération très puissante en data science pour produire des résumés statistiques par groupe."
   ]
  },
  {
   "cell_type": "code",
   "execution_count": 52,
   "id": "f424d44e",
   "metadata": {},
   "outputs": [
    {
     "data": {
      "text/html": [
       "<div>\n",
       "<style scoped>\n",
       "    .dataframe tbody tr th:only-of-type {\n",
       "        vertical-align: middle;\n",
       "    }\n",
       "\n",
       "    .dataframe tbody tr th {\n",
       "        vertical-align: top;\n",
       "    }\n",
       "\n",
       "    .dataframe thead th {\n",
       "        text-align: right;\n",
       "    }\n",
       "</style>\n",
       "<table border=\"1\" class=\"dataframe\">\n",
       "  <thead>\n",
       "    <tr style=\"text-align: right;\">\n",
       "      <th></th>\n",
       "      <th>Salaire</th>\n",
       "    </tr>\n",
       "    <tr>\n",
       "      <th>Ville</th>\n",
       "      <th></th>\n",
       "    </tr>\n",
       "  </thead>\n",
       "  <tbody>\n",
       "    <tr>\n",
       "      <th>Bordeaux</th>\n",
       "      <td>9455569</td>\n",
       "    </tr>\n",
       "    <tr>\n",
       "      <th>Lille</th>\n",
       "      <td>10406475</td>\n",
       "    </tr>\n",
       "    <tr>\n",
       "      <th>Lyon</th>\n",
       "      <td>10558150</td>\n",
       "    </tr>\n",
       "    <tr>\n",
       "      <th>Marseille</th>\n",
       "      <td>9744753</td>\n",
       "    </tr>\n",
       "    <tr>\n",
       "      <th>Paris</th>\n",
       "      <td>10460076</td>\n",
       "    </tr>\n",
       "  </tbody>\n",
       "</table>\n",
       "</div>"
      ],
      "text/plain": [
       "            Salaire\n",
       "Ville              \n",
       "Bordeaux    9455569\n",
       "Lille      10406475\n",
       "Lyon       10558150\n",
       "Marseille   9744753\n",
       "Paris      10460076"
      ]
     },
     "execution_count": 52,
     "metadata": {},
     "output_type": "execute_result"
    }
   ],
   "source": [
    "df = pd.read_csv(\"data/employees.csv\")\n",
    "\n",
    "# Sélectionner uniquement les colonnes qui nous intéressent\n",
    "df_numeriques = df[[\"Ville\", \"Salaire\"]]\n",
    "\n",
    "# Regrouper par ville et faire une somme des salaire par ville\n",
    "df_numeriques.groupby(\"Ville\").sum()"
   ]
  },
  {
   "cell_type": "markdown",
   "id": "1dfecb43",
   "metadata": {},
   "source": [
    "D'autres opérations sont possibles comme l'affichage des statistiques descriptives avec `.describe()`"
   ]
  },
  {
   "cell_type": "code",
   "execution_count": 53,
   "id": "e0595a73",
   "metadata": {},
   "outputs": [
    {
     "data": {
      "text/html": [
       "<div>\n",
       "<style scoped>\n",
       "    .dataframe tbody tr th:only-of-type {\n",
       "        vertical-align: middle;\n",
       "    }\n",
       "\n",
       "    .dataframe tbody tr th {\n",
       "        vertical-align: top;\n",
       "    }\n",
       "\n",
       "    .dataframe thead tr th {\n",
       "        text-align: left;\n",
       "    }\n",
       "\n",
       "    .dataframe thead tr:last-of-type th {\n",
       "        text-align: right;\n",
       "    }\n",
       "</style>\n",
       "<table border=\"1\" class=\"dataframe\">\n",
       "  <thead>\n",
       "    <tr>\n",
       "      <th></th>\n",
       "      <th colspan=\"8\" halign=\"left\">Salaire</th>\n",
       "    </tr>\n",
       "    <tr>\n",
       "      <th></th>\n",
       "      <th>count</th>\n",
       "      <th>mean</th>\n",
       "      <th>std</th>\n",
       "      <th>min</th>\n",
       "      <th>25%</th>\n",
       "      <th>50%</th>\n",
       "      <th>75%</th>\n",
       "      <th>max</th>\n",
       "    </tr>\n",
       "    <tr>\n",
       "      <th>Ville</th>\n",
       "      <th></th>\n",
       "      <th></th>\n",
       "      <th></th>\n",
       "      <th></th>\n",
       "      <th></th>\n",
       "      <th></th>\n",
       "      <th></th>\n",
       "      <th></th>\n",
       "    </tr>\n",
       "  </thead>\n",
       "  <tbody>\n",
       "    <tr>\n",
       "      <th>Bordeaux</th>\n",
       "      <td>186.0</td>\n",
       "      <td>50836.392473</td>\n",
       "      <td>17633.095666</td>\n",
       "      <td>20541.0</td>\n",
       "      <td>35489.25</td>\n",
       "      <td>51502.0</td>\n",
       "      <td>66365.75</td>\n",
       "      <td>79890.0</td>\n",
       "    </tr>\n",
       "    <tr>\n",
       "      <th>Lille</th>\n",
       "      <td>206.0</td>\n",
       "      <td>50516.868932</td>\n",
       "      <td>16769.129809</td>\n",
       "      <td>20163.0</td>\n",
       "      <td>36106.00</td>\n",
       "      <td>51786.0</td>\n",
       "      <td>63727.75</td>\n",
       "      <td>79945.0</td>\n",
       "    </tr>\n",
       "    <tr>\n",
       "      <th>Lyon</th>\n",
       "      <td>201.0</td>\n",
       "      <td>52528.109453</td>\n",
       "      <td>16492.726503</td>\n",
       "      <td>21177.0</td>\n",
       "      <td>38681.00</td>\n",
       "      <td>53400.0</td>\n",
       "      <td>67241.00</td>\n",
       "      <td>79975.0</td>\n",
       "    </tr>\n",
       "    <tr>\n",
       "      <th>Marseille</th>\n",
       "      <td>196.0</td>\n",
       "      <td>49718.127551</td>\n",
       "      <td>16227.430039</td>\n",
       "      <td>20161.0</td>\n",
       "      <td>36140.75</td>\n",
       "      <td>48442.5</td>\n",
       "      <td>62692.75</td>\n",
       "      <td>79792.0</td>\n",
       "    </tr>\n",
       "    <tr>\n",
       "      <th>Paris</th>\n",
       "      <td>211.0</td>\n",
       "      <td>49573.819905</td>\n",
       "      <td>17531.763780</td>\n",
       "      <td>20145.0</td>\n",
       "      <td>33235.50</td>\n",
       "      <td>48380.0</td>\n",
       "      <td>65665.00</td>\n",
       "      <td>79745.0</td>\n",
       "    </tr>\n",
       "  </tbody>\n",
       "</table>\n",
       "</div>"
      ],
      "text/plain": [
       "          Salaire                                                          \\\n",
       "            count          mean           std      min       25%      50%   \n",
       "Ville                                                                       \n",
       "Bordeaux    186.0  50836.392473  17633.095666  20541.0  35489.25  51502.0   \n",
       "Lille       206.0  50516.868932  16769.129809  20163.0  36106.00  51786.0   \n",
       "Lyon        201.0  52528.109453  16492.726503  21177.0  38681.00  53400.0   \n",
       "Marseille   196.0  49718.127551  16227.430039  20161.0  36140.75  48442.5   \n",
       "Paris       211.0  49573.819905  17531.763780  20145.0  33235.50  48380.0   \n",
       "\n",
       "                              \n",
       "                75%      max  \n",
       "Ville                         \n",
       "Bordeaux   66365.75  79890.0  \n",
       "Lille      63727.75  79945.0  \n",
       "Lyon       67241.00  79975.0  \n",
       "Marseille  62692.75  79792.0  \n",
       "Paris      65665.00  79745.0  "
      ]
     },
     "metadata": {},
     "output_type": "display_data"
    },
    {
     "data": {
      "text/html": [
       "<div>\n",
       "<style scoped>\n",
       "    .dataframe tbody tr th:only-of-type {\n",
       "        vertical-align: middle;\n",
       "    }\n",
       "\n",
       "    .dataframe tbody tr th {\n",
       "        vertical-align: top;\n",
       "    }\n",
       "\n",
       "    .dataframe thead th {\n",
       "        text-align: right;\n",
       "    }\n",
       "</style>\n",
       "<table border=\"1\" class=\"dataframe\">\n",
       "  <thead>\n",
       "    <tr style=\"text-align: right;\">\n",
       "      <th></th>\n",
       "      <th>Salaire</th>\n",
       "    </tr>\n",
       "    <tr>\n",
       "      <th>Ville</th>\n",
       "      <th></th>\n",
       "    </tr>\n",
       "  </thead>\n",
       "  <tbody>\n",
       "    <tr>\n",
       "      <th>Bordeaux</th>\n",
       "      <td>186</td>\n",
       "    </tr>\n",
       "    <tr>\n",
       "      <th>Lille</th>\n",
       "      <td>206</td>\n",
       "    </tr>\n",
       "    <tr>\n",
       "      <th>Lyon</th>\n",
       "      <td>201</td>\n",
       "    </tr>\n",
       "    <tr>\n",
       "      <th>Marseille</th>\n",
       "      <td>196</td>\n",
       "    </tr>\n",
       "    <tr>\n",
       "      <th>Paris</th>\n",
       "      <td>211</td>\n",
       "    </tr>\n",
       "  </tbody>\n",
       "</table>\n",
       "</div>"
      ],
      "text/plain": [
       "           Salaire\n",
       "Ville             \n",
       "Bordeaux       186\n",
       "Lille          206\n",
       "Lyon           201\n",
       "Marseille      196\n",
       "Paris          211"
      ]
     },
     "metadata": {},
     "output_type": "display_data"
    },
    {
     "data": {
      "text/html": [
       "<div>\n",
       "<style scoped>\n",
       "    .dataframe tbody tr th:only-of-type {\n",
       "        vertical-align: middle;\n",
       "    }\n",
       "\n",
       "    .dataframe tbody tr th {\n",
       "        vertical-align: top;\n",
       "    }\n",
       "\n",
       "    .dataframe thead th {\n",
       "        text-align: right;\n",
       "    }\n",
       "</style>\n",
       "<table border=\"1\" class=\"dataframe\">\n",
       "  <thead>\n",
       "    <tr style=\"text-align: right;\">\n",
       "      <th></th>\n",
       "      <th>Salaire</th>\n",
       "    </tr>\n",
       "    <tr>\n",
       "      <th>Ville</th>\n",
       "      <th></th>\n",
       "    </tr>\n",
       "  </thead>\n",
       "  <tbody>\n",
       "    <tr>\n",
       "      <th>Bordeaux</th>\n",
       "      <td>50836.392473</td>\n",
       "    </tr>\n",
       "    <tr>\n",
       "      <th>Lille</th>\n",
       "      <td>50516.868932</td>\n",
       "    </tr>\n",
       "    <tr>\n",
       "      <th>Lyon</th>\n",
       "      <td>52528.109453</td>\n",
       "    </tr>\n",
       "    <tr>\n",
       "      <th>Marseille</th>\n",
       "      <td>49718.127551</td>\n",
       "    </tr>\n",
       "    <tr>\n",
       "      <th>Paris</th>\n",
       "      <td>49573.819905</td>\n",
       "    </tr>\n",
       "  </tbody>\n",
       "</table>\n",
       "</div>"
      ],
      "text/plain": [
       "                Salaire\n",
       "Ville                  \n",
       "Bordeaux   50836.392473\n",
       "Lille      50516.868932\n",
       "Lyon       52528.109453\n",
       "Marseille  49718.127551\n",
       "Paris      49573.819905"
      ]
     },
     "metadata": {},
     "output_type": "display_data"
    }
   ],
   "source": [
    "# Statistiques descriptives par ville\n",
    "display(df_numeriques.groupby(\"Ville\").describe())\n",
    "\n",
    "# ℹ️ Il est possible d’accéder directement à une statistique spécifique\n",
    "# comme le nombre de valeurs ou la moyenne, en utilisant des méthodes dédiées telles que .count() ou .mean().\n",
    "display(df_numeriques.groupby(\"Ville\").count()) # Nombre de salaire existant (non nulle) par ville\n",
    "display(df_numeriques.groupby(\"Ville\").mean())  # Moyenne des salaire par ville"
   ]
  },
  {
   "cell_type": "markdown",
   "id": "6474d437",
   "metadata": {},
   "source": [
    "### 🧩 Exercices"
   ]
  },
  {
   "cell_type": "markdown",
   "id": "b22f90f8",
   "metadata": {},
   "source": [
    "> À partir du dataset `data/employees.csv`, répondez à ces questions :\n",
    "> - Quelle est la moyenne des salaires annuels de plus de 35000€ par statut marital ?\n",
    "> - Quel est le pourcentage d’employés mariés dans chaque ville ?"
   ]
  },
  {
   "cell_type": "code",
   "execution_count": 54,
   "id": "8b455542",
   "metadata": {},
   "outputs": [],
   "source": [
    "# Votre code ici"
   ]
  },
  {
   "cell_type": "markdown",
   "id": "493ba10a",
   "metadata": {},
   "source": [
    "# 8. 🔗 Fusionner deux DataFrames"
   ]
  },
  {
   "cell_type": "markdown",
   "id": "c22b2514",
   "metadata": {},
   "source": [
    "Lorsque les données sont réparties dans plusieurs tableaux (par exemple clients d’un côté, commandes de l’autre), il est souvent nécessaire de les fusionner.\n",
    "\n",
    "Pandas propose deux grands types de fusions :\n",
    "- fusion horizontale (alignement par colonne)\n",
    "- fusion verticale (empilement de lignes) "
   ]
  },
  {
   "cell_type": "markdown",
   "id": "aab152c2",
   "metadata": {},
   "source": [
    "### a. Fusion horizontale (alignement par colonne) – `pd.merge()`"
   ]
  },
  {
   "cell_type": "code",
   "execution_count": 55,
   "id": "45760674",
   "metadata": {},
   "outputs": [
    {
     "data": {
      "text/html": [
       "<div>\n",
       "<style scoped>\n",
       "    .dataframe tbody tr th:only-of-type {\n",
       "        vertical-align: middle;\n",
       "    }\n",
       "\n",
       "    .dataframe tbody tr th {\n",
       "        vertical-align: top;\n",
       "    }\n",
       "\n",
       "    .dataframe thead th {\n",
       "        text-align: right;\n",
       "    }\n",
       "</style>\n",
       "<table border=\"1\" class=\"dataframe\">\n",
       "  <thead>\n",
       "    <tr style=\"text-align: right;\">\n",
       "      <th></th>\n",
       "      <th>ID</th>\n",
       "      <th>Nom</th>\n",
       "    </tr>\n",
       "  </thead>\n",
       "  <tbody>\n",
       "    <tr>\n",
       "      <th>0</th>\n",
       "      <td>1</td>\n",
       "      <td>Alice</td>\n",
       "    </tr>\n",
       "    <tr>\n",
       "      <th>1</th>\n",
       "      <td>2</td>\n",
       "      <td>Bob</td>\n",
       "    </tr>\n",
       "    <tr>\n",
       "      <th>2</th>\n",
       "      <td>3</td>\n",
       "      <td>Charlie</td>\n",
       "    </tr>\n",
       "  </tbody>\n",
       "</table>\n",
       "</div>"
      ],
      "text/plain": [
       "   ID      Nom\n",
       "0   1    Alice\n",
       "1   2      Bob\n",
       "2   3  Charlie"
      ]
     },
     "metadata": {},
     "output_type": "display_data"
    },
    {
     "data": {
      "text/html": [
       "<div>\n",
       "<style scoped>\n",
       "    .dataframe tbody tr th:only-of-type {\n",
       "        vertical-align: middle;\n",
       "    }\n",
       "\n",
       "    .dataframe tbody tr th {\n",
       "        vertical-align: top;\n",
       "    }\n",
       "\n",
       "    .dataframe thead th {\n",
       "        text-align: right;\n",
       "    }\n",
       "</style>\n",
       "<table border=\"1\" class=\"dataframe\">\n",
       "  <thead>\n",
       "    <tr style=\"text-align: right;\">\n",
       "      <th></th>\n",
       "      <th>Client_ID</th>\n",
       "      <th>Montant</th>\n",
       "    </tr>\n",
       "  </thead>\n",
       "  <tbody>\n",
       "    <tr>\n",
       "      <th>0</th>\n",
       "      <td>1</td>\n",
       "      <td>250</td>\n",
       "    </tr>\n",
       "    <tr>\n",
       "      <th>1</th>\n",
       "      <td>2</td>\n",
       "      <td>120</td>\n",
       "    </tr>\n",
       "    <tr>\n",
       "      <th>2</th>\n",
       "      <td>1</td>\n",
       "      <td>75</td>\n",
       "    </tr>\n",
       "    <tr>\n",
       "      <th>3</th>\n",
       "      <td>4</td>\n",
       "      <td>300</td>\n",
       "    </tr>\n",
       "  </tbody>\n",
       "</table>\n",
       "</div>"
      ],
      "text/plain": [
       "   Client_ID  Montant\n",
       "0          1      250\n",
       "1          2      120\n",
       "2          1       75\n",
       "3          4      300"
      ]
     },
     "metadata": {},
     "output_type": "display_data"
    },
    {
     "data": {
      "text/html": [
       "<div>\n",
       "<style scoped>\n",
       "    .dataframe tbody tr th:only-of-type {\n",
       "        vertical-align: middle;\n",
       "    }\n",
       "\n",
       "    .dataframe tbody tr th {\n",
       "        vertical-align: top;\n",
       "    }\n",
       "\n",
       "    .dataframe thead th {\n",
       "        text-align: right;\n",
       "    }\n",
       "</style>\n",
       "<table border=\"1\" class=\"dataframe\">\n",
       "  <thead>\n",
       "    <tr style=\"text-align: right;\">\n",
       "      <th></th>\n",
       "      <th>ID</th>\n",
       "      <th>Nom</th>\n",
       "      <th>Client_ID</th>\n",
       "      <th>Montant</th>\n",
       "    </tr>\n",
       "  </thead>\n",
       "  <tbody>\n",
       "    <tr>\n",
       "      <th>0</th>\n",
       "      <td>1</td>\n",
       "      <td>Alice</td>\n",
       "      <td>1</td>\n",
       "      <td>250</td>\n",
       "    </tr>\n",
       "    <tr>\n",
       "      <th>1</th>\n",
       "      <td>1</td>\n",
       "      <td>Alice</td>\n",
       "      <td>1</td>\n",
       "      <td>75</td>\n",
       "    </tr>\n",
       "    <tr>\n",
       "      <th>2</th>\n",
       "      <td>2</td>\n",
       "      <td>Bob</td>\n",
       "      <td>2</td>\n",
       "      <td>120</td>\n",
       "    </tr>\n",
       "  </tbody>\n",
       "</table>\n",
       "</div>"
      ],
      "text/plain": [
       "   ID    Nom  Client_ID  Montant\n",
       "0   1  Alice          1      250\n",
       "1   1  Alice          1       75\n",
       "2   2    Bob          2      120"
      ]
     },
     "metadata": {},
     "output_type": "display_data"
    }
   ],
   "source": [
    "df_clients = pd.read_csv(\"data/clients.csv\")\n",
    "df_commandes = pd.read_csv(\"data/commandes.csv\")\n",
    "\n",
    "display(df_clients)\n",
    "display(df_commandes)\n",
    "\n",
    "# Fusion sur les identifiants : correspondance ligne à ligne\n",
    "df_fusion = pd.merge(df_clients, df_commandes, left_on=\"ID\", right_on=\"Client_ID\")\n",
    "display(df_fusion)"
   ]
  },
  {
   "cell_type": "markdown",
   "id": "ae2bba9a",
   "metadata": {},
   "source": [
    "À l'instar de SQL, il est possible d'utliser d'autres jointures (`left`, `right`, `outer`)."
   ]
  },
  {
   "cell_type": "code",
   "execution_count": 56,
   "id": "874cb551",
   "metadata": {},
   "outputs": [
    {
     "data": {
      "text/html": [
       "<div>\n",
       "<style scoped>\n",
       "    .dataframe tbody tr th:only-of-type {\n",
       "        vertical-align: middle;\n",
       "    }\n",
       "\n",
       "    .dataframe tbody tr th {\n",
       "        vertical-align: top;\n",
       "    }\n",
       "\n",
       "    .dataframe thead th {\n",
       "        text-align: right;\n",
       "    }\n",
       "</style>\n",
       "<table border=\"1\" class=\"dataframe\">\n",
       "  <thead>\n",
       "    <tr style=\"text-align: right;\">\n",
       "      <th></th>\n",
       "      <th>ID</th>\n",
       "      <th>Nom</th>\n",
       "      <th>Client_ID</th>\n",
       "      <th>Montant</th>\n",
       "    </tr>\n",
       "  </thead>\n",
       "  <tbody>\n",
       "    <tr>\n",
       "      <th>0</th>\n",
       "      <td>1</td>\n",
       "      <td>Alice</td>\n",
       "      <td>1.0</td>\n",
       "      <td>250.0</td>\n",
       "    </tr>\n",
       "    <tr>\n",
       "      <th>1</th>\n",
       "      <td>1</td>\n",
       "      <td>Alice</td>\n",
       "      <td>1.0</td>\n",
       "      <td>75.0</td>\n",
       "    </tr>\n",
       "    <tr>\n",
       "      <th>2</th>\n",
       "      <td>2</td>\n",
       "      <td>Bob</td>\n",
       "      <td>2.0</td>\n",
       "      <td>120.0</td>\n",
       "    </tr>\n",
       "    <tr>\n",
       "      <th>3</th>\n",
       "      <td>3</td>\n",
       "      <td>Charlie</td>\n",
       "      <td>NaN</td>\n",
       "      <td>NaN</td>\n",
       "    </tr>\n",
       "  </tbody>\n",
       "</table>\n",
       "</div>"
      ],
      "text/plain": [
       "   ID      Nom  Client_ID  Montant\n",
       "0   1    Alice        1.0    250.0\n",
       "1   1    Alice        1.0     75.0\n",
       "2   2      Bob        2.0    120.0\n",
       "3   3  Charlie        NaN      NaN"
      ]
     },
     "metadata": {},
     "output_type": "display_data"
    },
    {
     "data": {
      "text/html": [
       "<div>\n",
       "<style scoped>\n",
       "    .dataframe tbody tr th:only-of-type {\n",
       "        vertical-align: middle;\n",
       "    }\n",
       "\n",
       "    .dataframe tbody tr th {\n",
       "        vertical-align: top;\n",
       "    }\n",
       "\n",
       "    .dataframe thead th {\n",
       "        text-align: right;\n",
       "    }\n",
       "</style>\n",
       "<table border=\"1\" class=\"dataframe\">\n",
       "  <thead>\n",
       "    <tr style=\"text-align: right;\">\n",
       "      <th></th>\n",
       "      <th>ID</th>\n",
       "      <th>Nom</th>\n",
       "      <th>Client_ID</th>\n",
       "      <th>Montant</th>\n",
       "    </tr>\n",
       "  </thead>\n",
       "  <tbody>\n",
       "    <tr>\n",
       "      <th>0</th>\n",
       "      <td>1.0</td>\n",
       "      <td>Alice</td>\n",
       "      <td>1</td>\n",
       "      <td>250</td>\n",
       "    </tr>\n",
       "    <tr>\n",
       "      <th>1</th>\n",
       "      <td>2.0</td>\n",
       "      <td>Bob</td>\n",
       "      <td>2</td>\n",
       "      <td>120</td>\n",
       "    </tr>\n",
       "    <tr>\n",
       "      <th>2</th>\n",
       "      <td>1.0</td>\n",
       "      <td>Alice</td>\n",
       "      <td>1</td>\n",
       "      <td>75</td>\n",
       "    </tr>\n",
       "    <tr>\n",
       "      <th>3</th>\n",
       "      <td>NaN</td>\n",
       "      <td>NaN</td>\n",
       "      <td>4</td>\n",
       "      <td>300</td>\n",
       "    </tr>\n",
       "  </tbody>\n",
       "</table>\n",
       "</div>"
      ],
      "text/plain": [
       "    ID    Nom  Client_ID  Montant\n",
       "0  1.0  Alice          1      250\n",
       "1  2.0    Bob          2      120\n",
       "2  1.0  Alice          1       75\n",
       "3  NaN    NaN          4      300"
      ]
     },
     "metadata": {},
     "output_type": "display_data"
    },
    {
     "data": {
      "text/html": [
       "<div>\n",
       "<style scoped>\n",
       "    .dataframe tbody tr th:only-of-type {\n",
       "        vertical-align: middle;\n",
       "    }\n",
       "\n",
       "    .dataframe tbody tr th {\n",
       "        vertical-align: top;\n",
       "    }\n",
       "\n",
       "    .dataframe thead th {\n",
       "        text-align: right;\n",
       "    }\n",
       "</style>\n",
       "<table border=\"1\" class=\"dataframe\">\n",
       "  <thead>\n",
       "    <tr style=\"text-align: right;\">\n",
       "      <th></th>\n",
       "      <th>ID</th>\n",
       "      <th>Nom</th>\n",
       "      <th>Client_ID</th>\n",
       "      <th>Montant</th>\n",
       "    </tr>\n",
       "  </thead>\n",
       "  <tbody>\n",
       "    <tr>\n",
       "      <th>0</th>\n",
       "      <td>1.0</td>\n",
       "      <td>Alice</td>\n",
       "      <td>1.0</td>\n",
       "      <td>250.0</td>\n",
       "    </tr>\n",
       "    <tr>\n",
       "      <th>1</th>\n",
       "      <td>1.0</td>\n",
       "      <td>Alice</td>\n",
       "      <td>1.0</td>\n",
       "      <td>75.0</td>\n",
       "    </tr>\n",
       "    <tr>\n",
       "      <th>2</th>\n",
       "      <td>2.0</td>\n",
       "      <td>Bob</td>\n",
       "      <td>2.0</td>\n",
       "      <td>120.0</td>\n",
       "    </tr>\n",
       "    <tr>\n",
       "      <th>3</th>\n",
       "      <td>3.0</td>\n",
       "      <td>Charlie</td>\n",
       "      <td>NaN</td>\n",
       "      <td>NaN</td>\n",
       "    </tr>\n",
       "    <tr>\n",
       "      <th>4</th>\n",
       "      <td>NaN</td>\n",
       "      <td>NaN</td>\n",
       "      <td>4.0</td>\n",
       "      <td>300.0</td>\n",
       "    </tr>\n",
       "  </tbody>\n",
       "</table>\n",
       "</div>"
      ],
      "text/plain": [
       "    ID      Nom  Client_ID  Montant\n",
       "0  1.0    Alice        1.0    250.0\n",
       "1  1.0    Alice        1.0     75.0\n",
       "2  2.0      Bob        2.0    120.0\n",
       "3  3.0  Charlie        NaN      NaN\n",
       "4  NaN      NaN        4.0    300.0"
      ]
     },
     "metadata": {},
     "output_type": "display_data"
    }
   ],
   "source": [
    "# 🔁 Jointure gauche (LEFT JOIN) :\n",
    "# Garde toutes les lignes du DataFrame de gauche (clients),\n",
    "# même si aucun client n’a passé de commande (valeurs manquantes dans 'Montant').\n",
    "display( pd.merge(df_clients, df_commandes, left_on=\"ID\", right_on=\"Client_ID\", how=\"left\") )\n",
    "\n",
    "# 🔁 Jointure droite (RIGHT JOIN) :\n",
    "# Garde toutes les lignes du DataFrame de droite (commandes),\n",
    "# même si certaines commandes n'ont pas de client correspondant (valeurs manquantes dans 'Nom').\n",
    "display( pd.merge(df_clients, df_commandes, left_on=\"ID\", right_on=\"Client_ID\", how=\"right\") )\n",
    "\n",
    "# 🔁 Jointure externe complète (FULL OUTER JOIN) :\n",
    "# Garde toutes les lignes des deux DataFrames,\n",
    "# insère des NaN là où il n'y a pas de correspondance (côté client ou côté commande).\n",
    "display( pd.merge(df_clients, df_commandes, left_on=\"ID\", right_on=\"Client_ID\", how=\"outer\"))"
   ]
  },
  {
   "cell_type": "markdown",
   "id": "dabd979f",
   "metadata": {},
   "source": [
    "### 🧩 Exercice"
   ]
  },
  {
   "cell_type": "markdown",
   "id": "4ff0c17f",
   "metadata": {},
   "source": [
    "> Chargez les fichiers CSV `\"data/students.csv\"` et `\"data/notes.csv\"` dans deux DataFrames : `df_students` et `df_notes` puis répondez aux demandes suivantes :\n",
    "> - Réalisez une jointure interne (inner) pour ne conserver que les étudiants ayant une note.\n",
    "> - Réalisez une jointure gauche (left) pour conserver tous les étudiants, même ceux sans note.\n",
    "> - Réalisez une jointure externe (outer) pour afficher tous les étudiants et toutes les notes, même sans correspondance."
   ]
  },
  {
   "cell_type": "code",
   "execution_count": 57,
   "id": "84d012f3",
   "metadata": {},
   "outputs": [],
   "source": [
    "# Votre code ici"
   ]
  },
  {
   "cell_type": "markdown",
   "id": "4bfa5e79",
   "metadata": {},
   "source": [
    "### b. Fusion verticale (empilement de lignes) – `pd.concat()`"
   ]
  },
  {
   "cell_type": "markdown",
   "id": "d635325a",
   "metadata": {},
   "source": [
    "Ce type de fusion est utilisé pour concaténer des DataFrame similaires."
   ]
  },
  {
   "cell_type": "code",
   "execution_count": 58,
   "id": "d994037a",
   "metadata": {},
   "outputs": [
    {
     "data": {
      "text/html": [
       "<div>\n",
       "<style scoped>\n",
       "    .dataframe tbody tr th:only-of-type {\n",
       "        vertical-align: middle;\n",
       "    }\n",
       "\n",
       "    .dataframe tbody tr th {\n",
       "        vertical-align: top;\n",
       "    }\n",
       "\n",
       "    .dataframe thead th {\n",
       "        text-align: right;\n",
       "    }\n",
       "</style>\n",
       "<table border=\"1\" class=\"dataframe\">\n",
       "  <thead>\n",
       "    <tr style=\"text-align: right;\">\n",
       "      <th></th>\n",
       "      <th>index</th>\n",
       "      <th>Date</th>\n",
       "      <th>Produit</th>\n",
       "      <th>Quantité</th>\n",
       "    </tr>\n",
       "  </thead>\n",
       "  <tbody>\n",
       "    <tr>\n",
       "      <th>0</th>\n",
       "      <td>0</td>\n",
       "      <td>2024-01-01</td>\n",
       "      <td>A</td>\n",
       "      <td>1</td>\n",
       "    </tr>\n",
       "    <tr>\n",
       "      <th>1</th>\n",
       "      <td>1</td>\n",
       "      <td>2024-01-02</td>\n",
       "      <td>F</td>\n",
       "      <td>4</td>\n",
       "    </tr>\n",
       "    <tr>\n",
       "      <th>2</th>\n",
       "      <td>2</td>\n",
       "      <td>2024-01-03</td>\n",
       "      <td>E</td>\n",
       "      <td>5</td>\n",
       "    </tr>\n",
       "    <tr>\n",
       "      <th>3</th>\n",
       "      <td>3</td>\n",
       "      <td>2024-01-04</td>\n",
       "      <td>D</td>\n",
       "      <td>8</td>\n",
       "    </tr>\n",
       "    <tr>\n",
       "      <th>4</th>\n",
       "      <td>4</td>\n",
       "      <td>2024-01-05</td>\n",
       "      <td>F</td>\n",
       "      <td>2</td>\n",
       "    </tr>\n",
       "    <tr>\n",
       "      <th>5</th>\n",
       "      <td>0</td>\n",
       "      <td>2024-02-01</td>\n",
       "      <td>D</td>\n",
       "      <td>9</td>\n",
       "    </tr>\n",
       "    <tr>\n",
       "      <th>6</th>\n",
       "      <td>1</td>\n",
       "      <td>2024-02-02</td>\n",
       "      <td>E</td>\n",
       "      <td>1</td>\n",
       "    </tr>\n",
       "    <tr>\n",
       "      <th>7</th>\n",
       "      <td>2</td>\n",
       "      <td>2024-02-03</td>\n",
       "      <td>F</td>\n",
       "      <td>3</td>\n",
       "    </tr>\n",
       "    <tr>\n",
       "      <th>8</th>\n",
       "      <td>3</td>\n",
       "      <td>2024-02-04</td>\n",
       "      <td>E</td>\n",
       "      <td>2</td>\n",
       "    </tr>\n",
       "    <tr>\n",
       "      <th>9</th>\n",
       "      <td>4</td>\n",
       "      <td>2024-02-05</td>\n",
       "      <td>E</td>\n",
       "      <td>3</td>\n",
       "    </tr>\n",
       "    <tr>\n",
       "      <th>10</th>\n",
       "      <td>0</td>\n",
       "      <td>2024-03-01</td>\n",
       "      <td>B</td>\n",
       "      <td>2</td>\n",
       "    </tr>\n",
       "    <tr>\n",
       "      <th>11</th>\n",
       "      <td>1</td>\n",
       "      <td>2024-03-02</td>\n",
       "      <td>A</td>\n",
       "      <td>3</td>\n",
       "    </tr>\n",
       "    <tr>\n",
       "      <th>12</th>\n",
       "      <td>2</td>\n",
       "      <td>2024-03-03</td>\n",
       "      <td>E</td>\n",
       "      <td>4</td>\n",
       "    </tr>\n",
       "    <tr>\n",
       "      <th>13</th>\n",
       "      <td>3</td>\n",
       "      <td>2024-03-04</td>\n",
       "      <td>F</td>\n",
       "      <td>9</td>\n",
       "    </tr>\n",
       "    <tr>\n",
       "      <th>14</th>\n",
       "      <td>4</td>\n",
       "      <td>2024-03-05</td>\n",
       "      <td>A</td>\n",
       "      <td>3</td>\n",
       "    </tr>\n",
       "  </tbody>\n",
       "</table>\n",
       "</div>"
      ],
      "text/plain": [
       "    index        Date Produit  Quantité\n",
       "0       0  2024-01-01       A         1\n",
       "1       1  2024-01-02       F         4\n",
       "2       2  2024-01-03       E         5\n",
       "3       3  2024-01-04       D         8\n",
       "4       4  2024-01-05       F         2\n",
       "5       0  2024-02-01       D         9\n",
       "6       1  2024-02-02       E         1\n",
       "7       2  2024-02-03       F         3\n",
       "8       3  2024-02-04       E         2\n",
       "9       4  2024-02-05       E         3\n",
       "10      0  2024-03-01       B         2\n",
       "11      1  2024-03-02       A         3\n",
       "12      2  2024-03-03       E         4\n",
       "13      3  2024-03-04       F         9\n",
       "14      4  2024-03-05       A         3"
      ]
     },
     "execution_count": 58,
     "metadata": {},
     "output_type": "execute_result"
    }
   ],
   "source": [
    "df_1 = pd.read_csv(\"data/sales_1.csv\")\n",
    "df_2 = pd.read_csv(\"data/sales_2.csv\")\n",
    "df_3 = pd.read_csv(\"data/sales_3.csv\")\n",
    "\n",
    "# Fusion verticale : les lignes des DataFrame sont empilées par ordre de lecture\n",
    "df_sales = pd.concat([df_1, df_2, df_3])\n",
    "\n",
    "df_sales.reset_index()  # On réinitialise les index après la fusion"
   ]
  },
  {
   "cell_type": "markdown",
   "id": "6f7e93b4",
   "metadata": {},
   "source": [
    "### 🧩 Exercices"
   ]
  },
  {
   "cell_type": "markdown",
   "id": "169ce79e",
   "metadata": {},
   "source": [
    "> Chargez les fichiers CSV `\"data/sessions_1.csv\"`, `\"data/sessions_2.csv\"` et `\"data/sessions_3.csv\"` dans trois DataFrames puis répondez aux demandes suivantes :\n",
    "> - Concatènez les trois dataset pour obtenir un historique complet. (Pensez à réindexer les lignes après la concaténation avec ignore_index=True)\n",
    "> - Triez le DataFrame fusionné par date croissante.\n",
    "> - Affichez le nombre total de participants par thème.\n",
    "> - Identifie les participants qui sont venus plusieurs fois."
   ]
  },
  {
   "cell_type": "code",
   "execution_count": 59,
   "id": "081f7505",
   "metadata": {},
   "outputs": [],
   "source": [
    "# Votre code ici"
   ]
  },
  {
   "cell_type": "markdown",
   "id": "e39ac682",
   "metadata": {},
   "source": [
    "---\n",
    "# ✅ Bravo !\n",
    "Vous maîtrisez les bases de Pandas. Vous pouvez maintenant explorer, nettoyer et transformer des données !"
   ]
  }
 ],
 "metadata": {
  "kernelspec": {
   "display_name": ".venv",
   "language": "python",
   "name": "python3"
  },
  "language_info": {
   "codemirror_mode": {
    "name": "ipython",
    "version": 3
   },
   "file_extension": ".py",
   "mimetype": "text/x-python",
   "name": "python",
   "nbconvert_exporter": "python",
   "pygments_lexer": "ipython3",
   "version": "3.13.3"
  }
 },
 "nbformat": 4,
 "nbformat_minor": 5
}
